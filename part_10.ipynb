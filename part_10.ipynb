{
 "cells": [
  {
   "cell_type": "markdown",
   "id": "e55a23da-814e-455d-baaa-2a6d76d694d7",
   "metadata": {},
   "source": [
    "# Dataset Partitioning"
   ]
  },
  {
   "cell_type": "code",
   "execution_count": 1,
   "id": "a80b5389-061b-45b7-a683-f7c34d6256c5",
   "metadata": {},
   "outputs": [],
   "source": [
    "import os\n",
    "import re\n",
    "\n",
    "from collections import defaultdict\n",
    "\n",
    "import random\n",
    "\n",
    "from tqdm.notebook import tqdm\n",
    "\n",
    "import matplotlib.pyplot as plt\n",
    "import numpy as np\n",
    "import pandas as pd\n",
    "import seaborn as sns\n",
    "\n",
    "import wikipedia\n",
    "\n",
    "from nltk import word_tokenize, sent_tokenize, pos_tag\n",
    "from nltk.corpus import stopwords\n",
    "from razdel import sentenize\n",
    "\n",
    "import pymorphy2 as pm2"
   ]
  },
  {
   "cell_type": "code",
   "execution_count": 2,
   "id": "de72e965-a9b1-4d7e-ab6f-9b1acbead94f",
   "metadata": {},
   "outputs": [],
   "source": [
    "SEED = 42\n",
    "\n",
    "random.seed(SEED)"
   ]
  },
  {
   "cell_type": "markdown",
   "id": "03ba6ef0-80bc-4aff-b23c-3d88b3d84faf",
   "metadata": {},
   "source": [
    "### 0. Introduction"
   ]
  },
  {
   "cell_type": "markdown",
   "id": "d060a3e1-6e7f-4079-85c6-e61e733a9ae8",
   "metadata": {},
   "source": [
    "На предыдущем шаге мы создали датасет для классификации предложений корпуса на подходящие/неподходящие в генерируемые абстракты."
   ]
  },
  {
   "cell_type": "code",
   "execution_count": 3,
   "id": "d6c8569f-9753-4eb5-988e-b1cd2e057037",
   "metadata": {},
   "outputs": [
    {
     "data": {
      "text/html": [
       "<div>\n",
       "<style scoped>\n",
       "    .dataframe tbody tr th:only-of-type {\n",
       "        vertical-align: middle;\n",
       "    }\n",
       "\n",
       "    .dataframe tbody tr th {\n",
       "        vertical-align: top;\n",
       "    }\n",
       "\n",
       "    .dataframe thead th {\n",
       "        text-align: right;\n",
       "    }\n",
       "</style>\n",
       "<table border=\"1\" class=\"dataframe\">\n",
       "  <thead>\n",
       "    <tr style=\"text-align: right;\">\n",
       "      <th></th>\n",
       "      <th>text</th>\n",
       "      <th>related bigram</th>\n",
       "      <th>suitability</th>\n",
       "    </tr>\n",
       "  </thead>\n",
       "  <tbody>\n",
       "    <tr>\n",
       "      <th>0</th>\n",
       "      <td>Спектры пропускания образцов в диапазоне длин ...</td>\n",
       "      <td>длина_волна</td>\n",
       "      <td>0</td>\n",
       "    </tr>\n",
       "    <tr>\n",
       "      <th>1</th>\n",
       "      <td>Для нитрата никеля(II) зависимости изменения о...</td>\n",
       "      <td>длина_волна</td>\n",
       "      <td>0</td>\n",
       "    </tr>\n",
       "    <tr>\n",
       "      <th>2</th>\n",
       "      <td>Зависимость инкремента от длины волны и угла б...</td>\n",
       "      <td>длина_волна</td>\n",
       "      <td>0</td>\n",
       "    </tr>\n",
       "    <tr>\n",
       "      <th>3</th>\n",
       "      <td>График зависимости инкремента от длины волны и...</td>\n",
       "      <td>длина_волна</td>\n",
       "      <td>0</td>\n",
       "    </tr>\n",
       "    <tr>\n",
       "      <th>4</th>\n",
       "      <td>Изменение отражения для каждой длины волны опр...</td>\n",
       "      <td>длина_волна</td>\n",
       "      <td>0</td>\n",
       "    </tr>\n",
       "    <tr>\n",
       "      <th>...</th>\n",
       "      <td>...</td>\n",
       "      <td>...</td>\n",
       "      <td>...</td>\n",
       "    </tr>\n",
       "    <tr>\n",
       "      <th>8059</th>\n",
       "      <td>По мере удаления от апертуры фронт волны прини...</td>\n",
       "      <td>плоский_волна</td>\n",
       "      <td>1</td>\n",
       "    </tr>\n",
       "    <tr>\n",
       "      <th>8060</th>\n",
       "      <td>Уравнение любой волны является решением диффер...</td>\n",
       "      <td>плоский_волна</td>\n",
       "      <td>1</td>\n",
       "    </tr>\n",
       "    <tr>\n",
       "      <th>8061</th>\n",
       "      <td>Правильность этой формулы следует из формулы Э...</td>\n",
       "      <td>плоский_волна</td>\n",
       "      <td>1</td>\n",
       "    </tr>\n",
       "    <tr>\n",
       "      <th>8062</th>\n",
       "      <td>Но так как в нашем реальном мире не существует...</td>\n",
       "      <td>плоский_волна</td>\n",
       "      <td>1</td>\n",
       "    </tr>\n",
       "    <tr>\n",
       "      <th>8063</th>\n",
       "      <td>Экспоненциальная форма записи в некоторых случ...</td>\n",
       "      <td>плоский_волна</td>\n",
       "      <td>1</td>\n",
       "    </tr>\n",
       "  </tbody>\n",
       "</table>\n",
       "<p>8064 rows × 3 columns</p>\n",
       "</div>"
      ],
      "text/plain": [
       "                                                   text related bigram  \\\n",
       "0     Спектры пропускания образцов в диапазоне длин ...    длина_волна   \n",
       "1     Для нитрата никеля(II) зависимости изменения о...    длина_волна   \n",
       "2     Зависимость инкремента от длины волны и угла б...    длина_волна   \n",
       "3     График зависимости инкремента от длины волны и...    длина_волна   \n",
       "4     Изменение отражения для каждой длины волны опр...    длина_волна   \n",
       "...                                                 ...            ...   \n",
       "8059  По мере удаления от апертуры фронт волны прини...  плоский_волна   \n",
       "8060  Уравнение любой волны является решением диффер...  плоский_волна   \n",
       "8061  Правильность этой формулы следует из формулы Э...  плоский_волна   \n",
       "8062  Но так как в нашем реальном мире не существует...  плоский_волна   \n",
       "8063  Экспоненциальная форма записи в некоторых случ...  плоский_волна   \n",
       "\n",
       "      suitability  \n",
       "0               0  \n",
       "1               0  \n",
       "2               0  \n",
       "3               0  \n",
       "4               0  \n",
       "...           ...  \n",
       "8059            1  \n",
       "8060            1  \n",
       "8061            1  \n",
       "8062            1  \n",
       "8063            1  \n",
       "\n",
       "[8064 rows x 3 columns]"
      ]
     },
     "execution_count": 3,
     "metadata": {},
     "output_type": "execute_result"
    }
   ],
   "source": [
    "corpus = pd.read_csv('../data/data_frames/sentence_suitability_for_article.csv', index_col=0)\n",
    "\n",
    "corpus"
   ]
  },
  {
   "cell_type": "markdown",
   "id": "5c3ba6ef-df8b-42dd-bac9-a36f7b0a8a00",
   "metadata": {},
   "source": [
    "Теперь разделим его на train/test части. Будем придерживаться пропорции 2 к 1. "
   ]
  },
  {
   "cell_type": "markdown",
   "id": "bd062279-ea13-4137-97d6-2122a96154fa",
   "metadata": {},
   "source": [
    "### 1. Organizing the Split"
   ]
  },
  {
   "cell_type": "markdown",
   "id": "593deba2-9393-4431-bb57-658e9169f407",
   "metadata": {},
   "source": [
    "Кол-во терминов в датасете:"
   ]
  },
  {
   "cell_type": "code",
   "execution_count": 4,
   "id": "92ebc1d9-1446-4087-b38c-d07b52d07ac8",
   "metadata": {},
   "outputs": [
    {
     "data": {
      "text/plain": [
       "50"
      ]
     },
     "execution_count": 4,
     "metadata": {},
     "output_type": "execute_result"
    }
   ],
   "source": [
    "max_term_id = corpus['related bigram'].unique().size\n",
    "max_term_id"
   ]
  },
  {
   "cell_type": "markdown",
   "id": "233c0035-38b1-4dff-a9ba-a7552f10eb95",
   "metadata": {},
   "source": [
    "Сопоставим каждому термину его ID:"
   ]
  },
  {
   "cell_type": "code",
   "execution_count": 5,
   "id": "070334e7-6b08-4ec4-872f-3df38dd7f13e",
   "metadata": {},
   "outputs": [
    {
     "data": {
      "text/plain": [
       "{0: 'длина_волна',\n",
       " 1: 'решение_уравнение',\n",
       " 2: 'система_уравнение',\n",
       " 3: 'электрический_поле',\n",
       " 4: 'комнатный_температура',\n",
       " 5: 'твёрдый_тело',\n",
       " 6: 'постановка_задача',\n",
       " 7: 'средний_значение',\n",
       " 8: 'граница_раздел',\n",
       " 9: 'фазовый_переход',\n",
       " 10: 'уравнение_движение',\n",
       " 11: 'показатель_преломление',\n",
       " 12: 'функция_распределение',\n",
       " 13: 'диэлектрический_проницаемость',\n",
       " 14: 'большой_число',\n",
       " 15: 'институт_физика',\n",
       " 16: 'порядок_величина',\n",
       " 17: 'дифференциальный_уравнение',\n",
       " 18: 'плотность_ток',\n",
       " 19: 'волновой_число',\n",
       " 20: 'волновой_вектор',\n",
       " 21: 'кинетический_энергия',\n",
       " 22: 'скорость_свет',\n",
       " 23: 'кристаллический_структура',\n",
       " 24: 'математический_модель',\n",
       " 25: 'погрешность_измерение',\n",
       " 26: 'коэффициент_отражение',\n",
       " 27: 'коэффициент_диффузия',\n",
       " 28: 'научный_школа',\n",
       " 29: 'волновой_функция',\n",
       " 30: 'численный_метод',\n",
       " 31: 'коэффициент_поглощение',\n",
       " 32: 'объект_исследование',\n",
       " 33: 'окружающий_среда',\n",
       " 34: 'скорость_звук',\n",
       " 35: 'энергия_связь',\n",
       " 36: 'спектр_поглощение',\n",
       " 37: 'время_релаксация',\n",
       " 38: 'температура_плавление',\n",
       " 39: 'энергия_активация',\n",
       " 40: 'носитель_заряд',\n",
       " 41: 'постоянный_больцмана',\n",
       " 42: 'тонкий_плёнка',\n",
       " 43: 'начало_координата',\n",
       " 44: 'плотность_энергия',\n",
       " 45: 'модуль_упругость',\n",
       " 46: 'потенциальный_энергия',\n",
       " 47: 'теория_возмущение',\n",
       " 48: 'плоский_волна',\n",
       " 49: 'матричный_элемент'}"
      ]
     },
     "execution_count": 5,
     "metadata": {},
     "output_type": "execute_result"
    }
   ],
   "source": [
    "unique_terms = corpus['related bigram'].unique()\n",
    "term_ids = {i: unique_terms[i] for i in range(max_term_id)}\n",
    "\n",
    "term_ids"
   ]
  },
  {
   "cell_type": "markdown",
   "id": "e8946aee-9b05-493f-8587-62b4bc2e000b",
   "metadata": {},
   "source": [
    "**Важно!** Предложения для 1 термина могут быть или только в train, или только в test."
   ]
  },
  {
   "cell_type": "markdown",
   "id": "0e243add-a7fc-452a-bb53-81fa362bef9a",
   "metadata": {},
   "source": [
    "Общая стратегия разделения:\n",
    "1. берем случайный термин;\n",
    "2. пытаемся добавить предложения с ним в test часть - если кол-во предложений в test стало больше допустимого предела, пробуем добавить другой термин. Иначе - добавляем. Если и после этого предложений меньше минимального порога, повторяем шаги 1-2;\n",
    "3. если кол-во предложений в test попало в искомый диапазон, добавляем все оставшиеся предложения в train часть."
   ]
  },
  {
   "cell_type": "code",
   "execution_count": 6,
   "id": "a80bc298-9981-42d0-80ca-7395bd57da04",
   "metadata": {},
   "outputs": [],
   "source": [
    "TEST_SIZE = 0.33\n",
    "TEST_ERROR_MARGIN = 0.03"
   ]
  },
  {
   "cell_type": "code",
   "execution_count": 7,
   "id": "b8c1e755-8b0d-4a60-a516-fa74cd81de40",
   "metadata": {},
   "outputs": [
    {
     "data": {
      "text/plain": [
       "2903"
      ]
     },
     "execution_count": 7,
     "metadata": {},
     "output_type": "execute_result"
    }
   ],
   "source": [
    "test_item_max_limit = round((TEST_SIZE + TEST_ERROR_MARGIN) * len(corpus))\n",
    "test_item_max_limit"
   ]
  },
  {
   "cell_type": "code",
   "execution_count": 8,
   "id": "793bbce4-ea46-4c7d-ad44-6dbc737b5b96",
   "metadata": {},
   "outputs": [
    {
     "data": {
      "text/plain": [
       "2419"
      ]
     },
     "execution_count": 8,
     "metadata": {},
     "output_type": "execute_result"
    }
   ],
   "source": [
    "test_item_min_limit = round((TEST_SIZE - TEST_ERROR_MARGIN) * len(corpus))\n",
    "test_item_min_limit"
   ]
  },
  {
   "cell_type": "code",
   "execution_count": 9,
   "id": "c84f1528-8999-4538-8b07-5120ceea3ffe",
   "metadata": {},
   "outputs": [],
   "source": [
    "test_terms, test_count = set(), 0"
   ]
  },
  {
   "cell_type": "code",
   "execution_count": 10,
   "id": "009b1406-acb7-47ee-a753-3dcface6a754",
   "metadata": {},
   "outputs": [],
   "source": [
    "viewed_term_ids = set()\n",
    "\n",
    "while test_count < test_item_min_limit:\n",
    "    # finish if no suitable candidate \n",
    "    if len(viewed_term_ids) == max_term_id:\n",
    "        break\n",
    "    \n",
    "    # choose next candidate\n",
    "    current_term_id = random.randint(0, max_term_id - 1)\n",
    "    if current_term_id in viewed_term_ids:\n",
    "        continue\n",
    "    viewed_term_ids.add(current_term_id)\n",
    "    current_term = term_ids[current_term_id]\n",
    "\n",
    "    # inspect partition\n",
    "    partition = corpus[corpus['related bigram'] == current_term]\n",
    "    if test_count + len(partition) > test_item_max_limit:\n",
    "        continue\n",
    "    test_count += len(partition)\n",
    "    test_terms.add(current_term)"
   ]
  },
  {
   "cell_type": "code",
   "execution_count": 11,
   "id": "9e0938fb-4c5e-4132-91c4-5d3faab71dc0",
   "metadata": {},
   "outputs": [],
   "source": [
    "train_data, test_data = [], []\n",
    "\n",
    "for row in corpus.itertuples():\n",
    "    if row[2] in test_terms:\n",
    "        test_data.append(row)\n",
    "    else:\n",
    "        train_data.append(row)"
   ]
  },
  {
   "cell_type": "code",
   "execution_count": 12,
   "id": "b6e91f7a-5e4d-4964-b8c1-36159d383aec",
   "metadata": {},
   "outputs": [
    {
     "data": {
      "text/html": [
       "<div>\n",
       "<style scoped>\n",
       "    .dataframe tbody tr th:only-of-type {\n",
       "        vertical-align: middle;\n",
       "    }\n",
       "\n",
       "    .dataframe tbody tr th {\n",
       "        vertical-align: top;\n",
       "    }\n",
       "\n",
       "    .dataframe thead th {\n",
       "        text-align: right;\n",
       "    }\n",
       "</style>\n",
       "<table border=\"1\" class=\"dataframe\">\n",
       "  <thead>\n",
       "    <tr style=\"text-align: right;\">\n",
       "      <th></th>\n",
       "      <th>text</th>\n",
       "      <th>related_term</th>\n",
       "      <th>suitability</th>\n",
       "    </tr>\n",
       "  </thead>\n",
       "  <tbody>\n",
       "    <tr>\n",
       "      <th>0</th>\n",
       "      <td>Решение уравнения поля в среде, ограниченной ц...</td>\n",
       "      <td>решение_уравнение</td>\n",
       "      <td>0</td>\n",
       "    </tr>\n",
       "    <tr>\n",
       "      <th>1</th>\n",
       "      <td>Однако аналитическое и численное решение уравн...</td>\n",
       "      <td>решение_уравнение</td>\n",
       "      <td>0</td>\n",
       "    </tr>\n",
       "    <tr>\n",
       "      <th>2</th>\n",
       "      <td>Однако аналитическое и численное решение уравн...</td>\n",
       "      <td>решение_уравнение</td>\n",
       "      <td>0</td>\n",
       "    </tr>\n",
       "    <tr>\n",
       "      <th>3</th>\n",
       "      <td>ВОЛНОВЫЕ РЕШЕНИЯ УРАВНЕНИЯ ЭРОЗИИ Для исследов...</td>\n",
       "      <td>решение_уравнение</td>\n",
       "      <td>0</td>\n",
       "    </tr>\n",
       "    <tr>\n",
       "      <th>4</th>\n",
       "      <td>Даже в таком простом случае решение уравнения ...</td>\n",
       "      <td>решение_уравнение</td>\n",
       "      <td>0</td>\n",
       "    </tr>\n",
       "    <tr>\n",
       "      <th>...</th>\n",
       "      <td>...</td>\n",
       "      <td>...</td>\n",
       "      <td>...</td>\n",
       "    </tr>\n",
       "    <tr>\n",
       "      <th>2416</th>\n",
       "      <td>Тем не менее, существует теорема о том, что ря...</td>\n",
       "      <td>теория_возмущение</td>\n",
       "      <td>1</td>\n",
       "    </tr>\n",
       "    <tr>\n",
       "      <th>2417</th>\n",
       "      <td>Это означает, что, начиная с некоторого (на пр...</td>\n",
       "      <td>теория_возмущение</td>\n",
       "      <td>1</td>\n",
       "    </tr>\n",
       "    <tr>\n",
       "      <th>2418</th>\n",
       "      <td>Несмотря на свою кажущуюся универсальность, ме...</td>\n",
       "      <td>теория_возмущение</td>\n",
       "      <td>1</td>\n",
       "    </tr>\n",
       "    <tr>\n",
       "      <th>2419</th>\n",
       "      <td>Примерами могут являться инстантонные эффекты ...</td>\n",
       "      <td>теория_возмущение</td>\n",
       "      <td>1</td>\n",
       "    </tr>\n",
       "    <tr>\n",
       "      <th>2420</th>\n",
       "      <td>Инстантонные вклады обладают существенными осо...</td>\n",
       "      <td>теория_возмущение</td>\n",
       "      <td>1</td>\n",
       "    </tr>\n",
       "  </tbody>\n",
       "</table>\n",
       "<p>2421 rows × 3 columns</p>\n",
       "</div>"
      ],
      "text/plain": [
       "                                                   text       related_term  \\\n",
       "0     Решение уравнения поля в среде, ограниченной ц...  решение_уравнение   \n",
       "1     Однако аналитическое и численное решение уравн...  решение_уравнение   \n",
       "2     Однако аналитическое и численное решение уравн...  решение_уравнение   \n",
       "3     ВОЛНОВЫЕ РЕШЕНИЯ УРАВНЕНИЯ ЭРОЗИИ Для исследов...  решение_уравнение   \n",
       "4     Даже в таком простом случае решение уравнения ...  решение_уравнение   \n",
       "...                                                 ...                ...   \n",
       "2416  Тем не менее, существует теорема о том, что ря...  теория_возмущение   \n",
       "2417  Это означает, что, начиная с некоторого (на пр...  теория_возмущение   \n",
       "2418  Несмотря на свою кажущуюся универсальность, ме...  теория_возмущение   \n",
       "2419  Примерами могут являться инстантонные эффекты ...  теория_возмущение   \n",
       "2420  Инстантонные вклады обладают существенными осо...  теория_возмущение   \n",
       "\n",
       "      suitability  \n",
       "0               0  \n",
       "1               0  \n",
       "2               0  \n",
       "3               0  \n",
       "4               0  \n",
       "...           ...  \n",
       "2416            1  \n",
       "2417            1  \n",
       "2418            1  \n",
       "2419            1  \n",
       "2420            1  \n",
       "\n",
       "[2421 rows x 3 columns]"
      ]
     },
     "execution_count": 12,
     "metadata": {},
     "output_type": "execute_result"
    }
   ],
   "source": [
    "test_df = pd.DataFrame(data=test_data, columns=['1', 'text', 'related_term', 'suitability']).drop(columns='1')\n",
    "test_df"
   ]
  },
  {
   "cell_type": "code",
   "execution_count": 13,
   "id": "61fc9a19-775d-4ffc-b70a-c41f07d5e656",
   "metadata": {},
   "outputs": [
    {
     "data": {
      "text/html": [
       "<div>\n",
       "<style scoped>\n",
       "    .dataframe tbody tr th:only-of-type {\n",
       "        vertical-align: middle;\n",
       "    }\n",
       "\n",
       "    .dataframe tbody tr th {\n",
       "        vertical-align: top;\n",
       "    }\n",
       "\n",
       "    .dataframe thead th {\n",
       "        text-align: right;\n",
       "    }\n",
       "</style>\n",
       "<table border=\"1\" class=\"dataframe\">\n",
       "  <thead>\n",
       "    <tr style=\"text-align: right;\">\n",
       "      <th></th>\n",
       "      <th>text</th>\n",
       "      <th>related_term</th>\n",
       "      <th>suitability</th>\n",
       "    </tr>\n",
       "  </thead>\n",
       "  <tbody>\n",
       "    <tr>\n",
       "      <th>0</th>\n",
       "      <td>Спектры пропускания образцов в диапазоне длин ...</td>\n",
       "      <td>длина_волна</td>\n",
       "      <td>0</td>\n",
       "    </tr>\n",
       "    <tr>\n",
       "      <th>1</th>\n",
       "      <td>Для нитрата никеля(II) зависимости изменения о...</td>\n",
       "      <td>длина_волна</td>\n",
       "      <td>0</td>\n",
       "    </tr>\n",
       "    <tr>\n",
       "      <th>2</th>\n",
       "      <td>Зависимость инкремента от длины волны и угла б...</td>\n",
       "      <td>длина_волна</td>\n",
       "      <td>0</td>\n",
       "    </tr>\n",
       "    <tr>\n",
       "      <th>3</th>\n",
       "      <td>График зависимости инкремента от длины волны и...</td>\n",
       "      <td>длина_волна</td>\n",
       "      <td>0</td>\n",
       "    </tr>\n",
       "    <tr>\n",
       "      <th>4</th>\n",
       "      <td>Изменение отражения для каждой длины волны опр...</td>\n",
       "      <td>длина_волна</td>\n",
       "      <td>0</td>\n",
       "    </tr>\n",
       "    <tr>\n",
       "      <th>...</th>\n",
       "      <td>...</td>\n",
       "      <td>...</td>\n",
       "      <td>...</td>\n",
       "    </tr>\n",
       "    <tr>\n",
       "      <th>5638</th>\n",
       "      <td>По мере удаления от апертуры фронт волны прини...</td>\n",
       "      <td>плоский_волна</td>\n",
       "      <td>1</td>\n",
       "    </tr>\n",
       "    <tr>\n",
       "      <th>5639</th>\n",
       "      <td>Уравнение любой волны является решением диффер...</td>\n",
       "      <td>плоский_волна</td>\n",
       "      <td>1</td>\n",
       "    </tr>\n",
       "    <tr>\n",
       "      <th>5640</th>\n",
       "      <td>Правильность этой формулы следует из формулы Э...</td>\n",
       "      <td>плоский_волна</td>\n",
       "      <td>1</td>\n",
       "    </tr>\n",
       "    <tr>\n",
       "      <th>5641</th>\n",
       "      <td>Но так как в нашем реальном мире не существует...</td>\n",
       "      <td>плоский_волна</td>\n",
       "      <td>1</td>\n",
       "    </tr>\n",
       "    <tr>\n",
       "      <th>5642</th>\n",
       "      <td>Экспоненциальная форма записи в некоторых случ...</td>\n",
       "      <td>плоский_волна</td>\n",
       "      <td>1</td>\n",
       "    </tr>\n",
       "  </tbody>\n",
       "</table>\n",
       "<p>5643 rows × 3 columns</p>\n",
       "</div>"
      ],
      "text/plain": [
       "                                                   text   related_term  \\\n",
       "0     Спектры пропускания образцов в диапазоне длин ...    длина_волна   \n",
       "1     Для нитрата никеля(II) зависимости изменения о...    длина_волна   \n",
       "2     Зависимость инкремента от длины волны и угла б...    длина_волна   \n",
       "3     График зависимости инкремента от длины волны и...    длина_волна   \n",
       "4     Изменение отражения для каждой длины волны опр...    длина_волна   \n",
       "...                                                 ...            ...   \n",
       "5638  По мере удаления от апертуры фронт волны прини...  плоский_волна   \n",
       "5639  Уравнение любой волны является решением диффер...  плоский_волна   \n",
       "5640  Правильность этой формулы следует из формулы Э...  плоский_волна   \n",
       "5641  Но так как в нашем реальном мире не существует...  плоский_волна   \n",
       "5642  Экспоненциальная форма записи в некоторых случ...  плоский_волна   \n",
       "\n",
       "      suitability  \n",
       "0               0  \n",
       "1               0  \n",
       "2               0  \n",
       "3               0  \n",
       "4               0  \n",
       "...           ...  \n",
       "5638            1  \n",
       "5639            1  \n",
       "5640            1  \n",
       "5641            1  \n",
       "5642            1  \n",
       "\n",
       "[5643 rows x 3 columns]"
      ]
     },
     "execution_count": 13,
     "metadata": {},
     "output_type": "execute_result"
    }
   ],
   "source": [
    "train_df = pd.DataFrame(data=train_data, columns=['1', 'text', 'related_term', 'suitability']).drop(columns='1')\n",
    "train_df"
   ]
  },
  {
   "cell_type": "markdown",
   "id": "27760aaf-3557-4b4a-b2a5-cac67f81980a",
   "metadata": {},
   "source": [
    "Сохраним полученные подвыборки:"
   ]
  },
  {
   "cell_type": "code",
   "execution_count": 14,
   "id": "c180c355-3b22-4d6f-9311-47134aa9db26",
   "metadata": {},
   "outputs": [],
   "source": [
    "train_df.to_csv('../data/data_frames/datasets/suitability_classification/train.csv')\n",
    "test_df.to_csv('../data/data_frames/datasets/suitability_classification/test.csv')"
   ]
  },
  {
   "cell_type": "markdown",
   "id": "970efb77-70dc-4206-82b1-1995e63d2792",
   "metadata": {},
   "source": [
    "### 2. Conclusion"
   ]
  },
  {
   "cell_type": "markdown",
   "id": "9233ee7c-3ff6-4ee7-ac7b-0b7b9f59cb2a",
   "metadata": {},
   "source": [
    "#### 2.1 Notes"
   ]
  },
  {
   "cell_type": "markdown",
   "id": "9e9d036f-e04e-4dc0-b483-dfa7dd775b35",
   "metadata": {},
   "source": [
    "- посмотрел, **отличаются ли выжимки** по терминам в зависимости от их **частотных характеристик** (по сути, единственная имеющаяся у нас информация). Вердикт - **нет**, тут все чистой воды рандом: у частотной биграммы может быть крохотная статья на википедии, а у редкой - большая и информативная;\n",
    "- с учетом предыдущего соображения решил **выбирать термины** в тестовую часть **рандомно** и просто регулировать, чтобы примерно **сохранялась желаемая пропорция 2 к 1 между train и test** и **все предложения каждого термина попадали только в одну из 2 частей**;"
   ]
  },
  {
   "cell_type": "markdown",
   "id": "ae90cc3d-4e42-421b-8ccf-426bd6bc77ae",
   "metadata": {},
   "source": [
    "#### 2.2 Improvements"
   ]
  },
  {
   "cell_type": "markdown",
   "id": "07fc68e0-00b4-4fd4-98b6-8a7dc11ea2c5",
   "metadata": {},
   "source": [
    "- **TO-DO:**\n",
    "    1. ;\n",
    "    2. ;\n",
    "    3. ."
   ]
  },
  {
   "cell_type": "code",
   "execution_count": null,
   "id": "c97bbb34-62a2-4dee-a6d1-3a622a1b4e97",
   "metadata": {},
   "outputs": [],
   "source": []
  }
 ],
 "metadata": {
  "kernelspec": {
   "display_name": "science",
   "language": "python",
   "name": "science"
  },
  "language_info": {
   "codemirror_mode": {
    "name": "ipython",
    "version": 3
   },
   "file_extension": ".py",
   "mimetype": "text/x-python",
   "name": "python",
   "nbconvert_exporter": "python",
   "pygments_lexer": "ipython3",
   "version": "3.10.2"
  }
 },
 "nbformat": 4,
 "nbformat_minor": 5
}
