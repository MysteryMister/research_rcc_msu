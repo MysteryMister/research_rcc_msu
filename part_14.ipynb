{
 "cells": [
  {
   "cell_type": "markdown",
   "id": "7c1c4989-e27d-4a8b-ad7e-057157bf385d",
   "metadata": {},
   "source": [
    "# Term Summary Generation"
   ]
  },
  {
   "cell_type": "markdown",
   "id": "706dd751-2e3a-424f-8413-3e3c6f6b528b",
   "metadata": {},
   "source": [
    "**Задача:**\n",
    "1. преобразовать экстрактивно извлеченные предложения в RAG-контекст для генеративных моделей;\n",
    "2. извлечь шапки вики-статей для сравнения (для 10 терминов);\n",
    "3. настроить промпт генерации абстрактивных выжимок для всех 20 терминов;\n",
    "4. проверить работу нескольких крупных LLM с RAG-контекстом и без, оценить схожесть ответов с вики-этолоном (ROUGE-score и человеческая оценка). "
   ]
  },
  {
   "cell_type": "code",
   "execution_count": 60,
   "id": "175af794-ae95-421a-8bdb-bd32529ca718",
   "metadata": {},
   "outputs": [],
   "source": [
    "import os\n",
    "import re\n",
    "\n",
    "from collections import defaultdict\n",
    "\n",
    "from tqdm.notebook import tqdm\n",
    "\n",
    "import matplotlib.pyplot as plt\n",
    "import numpy as np\n",
    "import pandas as pd\n",
    "import seaborn as sns\n",
    "\n",
    "from nltk import word_tokenize, sent_tokenize, pos_tag, WordPunctTokenizer\n",
    "from nltk.corpus import stopwords\n",
    "from razdel import sentenize\n",
    "\n",
    "import pymorphy2 as pm2\n",
    "\n",
    "from rouge_score.rouge_scorer import RougeScorer"
   ]
  },
  {
   "cell_type": "markdown",
   "id": "6173d197-7efd-429f-90e4-2fbbe09b3118",
   "metadata": {},
   "source": [
    "### 0. Manual Term Tuning"
   ]
  },
  {
   "cell_type": "markdown",
   "id": "71536788-ffb7-49ab-982f-7dec175b9c06",
   "metadata": {},
   "source": [
    "Зададим 20 терминов для проверки LLM и вручную восстановим их правильную грамматическую форму:"
   ]
  },
  {
   "cell_type": "code",
   "execution_count": 31,
   "id": "82f02ae7-b51d-43c3-b7d5-79a2f93dea49",
   "metadata": {},
   "outputs": [
    {
     "data": {
      "text/plain": [
       "20"
      ]
     },
     "execution_count": 31,
     "metadata": {},
     "output_type": "execute_result"
    }
   ],
   "source": [
    "# terms with related wiki article\n",
    "wiki_terms = [\n",
    "    'акустическая эмиссия',\n",
    "    'квантовая точка',\n",
    "    'внутренние волны',\n",
    "    'волна Рэлея',\n",
    "    'калибровочные бозоны',\n",
    "    'меченые атомы',\n",
    "    'синглетный кислород',\n",
    "    'число Стокса',\n",
    "    'число Рэлея',\n",
    "    'тяжёлая вода',\n",
    "]\n",
    "\n",
    "# terms without article\n",
    "non_wiki_terms = [\n",
    "    'волна накачки',\n",
    "    'динамическая рекристаллизация',\n",
    "    'ионосферная турбулентность',\n",
    "    'квантовое биение',\n",
    "    'оптическое выпрямление',\n",
    "    'паразитная мода',\n",
    "    'электронная концентрация',\n",
    "    'хаотическая синхронизация',\n",
    "    'функция памяти',\n",
    "    'ударный слой',\n",
    "]\n",
    "\n",
    "# combined terms\n",
    "terms = wiki_terms + non_wiki_terms\n",
    "\n",
    "len(terms)"
   ]
  },
  {
   "cell_type": "code",
   "execution_count": 32,
   "id": "1a8f45a1-d6ee-4d4b-9766-ae8617de1872",
   "metadata": {},
   "outputs": [
    {
     "data": {
      "text/plain": [
       "20"
      ]
     },
     "execution_count": 32,
     "metadata": {},
     "output_type": "execute_result"
    }
   ],
   "source": [
    "normalized_to_correct_term = {\n",
    "    'акустический_эмиссия': 'акустическая эмиссия',\n",
    "    'квантовый_точка': 'квантовая точка',\n",
    "    'внутренний_волна': 'внутренние волны',\n",
    "    'волна_рэлей': 'волна Рэлея',\n",
    "    'калибровочный_бозон': 'калибровочные бозоны',\n",
    "    'меченый_атом': 'меченые атомы',\n",
    "    'синглётный_кислород': 'синглетный кислород',\n",
    "    'число_стокс': 'число Стокса',\n",
    "    'число_рэлей': 'число Рэлея',\n",
    "    'тяжёлый_вода': 'тяжёлая вода',\n",
    "    'волна_накачка': 'волна накачки',\n",
    "    'динамический_рекристаллизация': 'динамическая рекристаллизация',\n",
    "    'ионосферный_турбулентность': 'ионосферная турбулентность',\n",
    "    'квантовый_биение': 'квантовое биение',\n",
    "    'оптический_выпрямление': 'оптическое выпрямление',\n",
    "    'паразитный_мода': 'паразитная мода',\n",
    "    'электронный_концентрация': 'электронная концентрация',\n",
    "    'хаотический_синхронизация': 'хаотическая синхронизация',\n",
    "    'функция_память': 'функция памяти',\n",
    "    'ударный_слой': 'ударный слой',\n",
    "}\n",
    "\n",
    "len(normalized_to_correct_term)"
   ]
  },
  {
   "cell_type": "markdown",
   "id": "b5fdd3ba-bbb1-47a0-afa0-06d295bfffb8",
   "metadata": {},
   "source": [
    "### 1. Forging RAG Contexts"
   ]
  },
  {
   "cell_type": "code",
   "execution_count": 33,
   "id": "23ffdfd6-faab-4f69-a0f0-2898ada61784",
   "metadata": {},
   "outputs": [
    {
     "data": {
      "application/vnd.jupyter.widget-view+json": {
       "model_id": "345edd7171a24ca58ffba6c280d2691b",
       "version_major": 2,
       "version_minor": 0
      },
      "text/plain": [
       "Forging RAG contexts: 0it [00:00, ?it/s]"
      ]
     },
     "metadata": {},
     "output_type": "display_data"
    }
   ],
   "source": [
    "extract_dir = '../data/data_frames/eval_20_results'\n",
    "\n",
    "term_to_context = {}\n",
    "for filename in tqdm(os.scandir(extract_dir), desc='Forging RAG contexts'):\n",
    "    term_name = normalized_to_correct_term[filename.name[:-4]]\n",
    "    term_df = pd.read_csv(filename, index_col=0)\n",
    "\n",
    "    context = []\n",
    "    for idx, row in enumerate(term_df.iterrows()):\n",
    "        context.append(f'{idx + 1}. {row[1].sentence}')\n",
    "\n",
    "    context = '\\n'.join(context)\n",
    "\n",
    "    term_to_context[term_name] = context"
   ]
  },
  {
   "cell_type": "markdown",
   "id": "09dfb8d3-1792-47af-bbc7-d04aa89bf887",
   "metadata": {},
   "source": [
    "### 2. Loading Target Texts"
   ]
  },
  {
   "cell_type": "markdown",
   "id": "f1625358-ddb2-442a-a263-4524a4bfeb05",
   "metadata": {},
   "source": [
    "Вручную извлечем для 10 терминов \"шапку\" соответствующих вики-статей:"
   ]
  },
  {
   "cell_type": "code",
   "execution_count": 34,
   "id": "9511915b-f9d6-422d-87fe-1340c032256b",
   "metadata": {},
   "outputs": [
    {
     "data": {
      "text/plain": [
       "10"
      ]
     },
     "execution_count": 34,
     "metadata": {},
     "output_type": "execute_result"
    }
   ],
   "source": [
    "term_to_target = {\n",
    "    'акустическая эмиссия': 'Акустическая эмиссия (АЭ) — техническая диагностика, основанная на явлении возникновения и распространения упругих колебаний (акустических волн) в различных процессах, например, при деформации напряжённого материала, истечении газов, жидкостей, горении и взрыве и др.',\n",
    "    'квантовая точка': '''Квантовая точка (КТ, нанокристал, искусственный атом) — фрагмент проводника или полупроводника (например InGaAs, CdSe, CdS или GaInP/InP), носители заряда (электроны или дырки) которого ограничены в пространстве по всем трём измерениям. Размер квантовой точки должен быть настолько мал, чтобы квантовые эффекты были существенными. Когда их освещают УФ-светом, электрон в квантовой точке может быть возбуждён до состояния с более высокой энергией. В случае полупроводниковой квантовой точки этот процесс соответствует переходу электрона из валентной зоны в зону проводимости. Возбуждённый электрон может вернуться в валентную зону, высвободив свою энергию в виде фотона. Это излучение света (фотолюминесценция) показано на рисунке справа. Цвет этого света зависит от разницы энергий между зоной проводимости и валентной зоной или от перехода между дискретными энергетическими состояниями, когда зонная структура в КТ нечётко определена.\n",
    "\n",
    "Наноразмерные полупроводниковые материалы плотно удерживают либо электроны, либо дырки. Удержание похоже на частицу в ящике. Особенности поглощения и излучения квантовых точек соответствуют переходам между дискретными квантово-механически разрешёнными уровнями энергии в ящике, напоминающими атомные спектры. По этим причинам квантовые точки иногда называют искусственными «атомами», подчёркивая их связанные и дискретные электронные состояния, подобно встречающимся в природе атомам или молекулам. Электронные волновые функции в квантовых точках напоминают таковые в реальных атомах. Соединив две или более квантовых точек можно создать искусственную «молекулу», проявляющую гибридизацию даже при комнатной температуре. Точная сборка квантовых точек может сформировать сверхрешётки, которые действуют как искусственные твёрдотельные материалы и обладают уникальными оптическими и электронными свойствами.\n",
    "\n",
    "Квантовые точки обладают промежуточными свойствами между объёмными полупроводниками и отдельными атомами или молекулами. Их оптоэлектронные свойства изменяются в зависимости как от размера, так и от формы. Более крупные КТ диаметром 5—6 нм излучают более длинные волны таких цветов, как оранжевый или красный. КТ меньшего размера (2—3 нм) излучают более короткие волны, создавая синий и зелёный свет. Однако конкретные цвета различаются в зависимости от точного химического состава КТ.\n",
    "\n",
    "Потенциальные применения квантовых точек включают одноэлектронные транзисторы, солнечные элементы, светодиоды, лазеры, источники одиночных фотонов, генерацию второй гармоники, квантовые вычисления, исследования в клеточной биологии, микроскопию и медицинскую визуализацию. Их небольшой размер позволяет суспендировать некоторые КТ в растворе и использовать их в струйной печати и центрифугировании. Они использовались в тонких плёнках Ленгмюра — Блоджетт. Эти технические средства приводят к созданию менее дорогих и менее трудоёмких методов изготовления полупроводников.\n",
    "\n",
    "Существует несколько распространённых способов создания квантовых точек. Возможные методы включают коллоидный синтез, самосборку, использование электрического поля и другие.''',\n",
    "    'внутренние волны': '''Внутренние инерционно-гравитационные волны или внутренние волны — вид волновых движений в стратифицированной жидкости (газе), плотность которой растет с глубиной. Под стратификацией понимается разделение водной толщи водоёма на слои различной плотности.\n",
    "\n",
    "Наличие неравномерного распределения плотности в среде (жидкости или газе) является необходимым условием для возникновения внутренних волн. Стратификация водоема может возникнуть из-за множества разнообразных явлений, таких как подводные землетрясения, морские течения, таяния льдов, шторма́. С точки зрения физики, изменяется значение двух основных термодинамических параметров — температуры и давления. Не менее важно изменение солености океана, которое напрямую влияет на плотность жидкости.\n",
    "\n",
    "Также важно отметить, что на больши́х глубинах в океане физическая модель «несжимаемой жидкости» не является верной. По причине значительного давления толщи воды, нижние слои океана являются более плотными, нежели верхние. Такой разницы в плотности достаточно для образования внутренних волн без наличия внешних воздействий (сил).''',\n",
    "    'волна Рэлея': 'Волны Рэлея — поверхностные акустические волны. Названы в честь Рэлея, теоретически предсказавшего их в 1885 году.',\n",
    "    'калибровочные бозоны': 'Калибровочные бозоны — бозоны, которые действуют как переносчики фундаментальных взаимодействий. Точнее, элементарные частицы, взаимодействия которых описываются калибровочной теорией, оказывают действие друг на друга при помощи обмена калибровочными бозонами, обычно как виртуальными частицами.',\n",
    "    'меченые атомы': 'Меченые атомы (изотопные индикаторы) — изотопы, по своим свойствам (радиоактивности, атомной массе) отличающиеся от других изотопов данного элемента, которые добавляют к химическому соединению или смеси, где находится исследуемый элемент. Поведение меченых атомов характеризует поведение элемента в исследуемом процессе. В качестве меченых атомов используют как стабильные (устойчивые) изотопы, так и радиоактивные (неустойчивые) изотопы. Для регистрации радиоактивных меченых атомов применяют счетчики, ионизационные камеры; нерадиоактивные изотопы регистрируют с помощью масс-спектрографов.',\n",
    "    'синглетный кислород': 'Синглетный кислород — общее название для двух метастабильных состояний молекулярного кислорода (O2) с более высокой энергией, чем в основном, триплетном состоянии. Энергетическая разница между самой низкой энергией O2 в синглетном состоянии и наименьшей энергией триплетного состояния составляет около 11400 кельвин, или 0,98 эВ. Открыт Х. Каутским.',\n",
    "    'число Стокса': '''Число Стокса (Sk или Stk) — критерий подобия, используемый в гидродинамике взвесей, который определяет соотношение между кинетической энергией взвешенных частиц и энергией их взаимодействия с жидкостью. \n",
    "    \n",
    "Число Стокса позволяет предсказать поведение частиц взвеси, когда жидкость будет огибать препятствие. \n",
    "\n",
    "Названо в честь ирландского физика Джорджа Стокса.''',\n",
    "    'число Рэлея': '''Число Рэлея (Ra) — безразмерное число, определяющее поведение жидкости под воздействием градиента температуры. \n",
    "    \n",
    "Если число Рэлея больше некоторого критического значения, равновесие жидкости становится неустойчивым и возникают конвективные потоки. Возникает бифуркация в динамике жидкости (вилочная бифуркация). Критическое значение числа Рэлея является точкой бифуркации для динамики жидкости. \n",
    "    \n",
    "Число Рэлея можно записать как произведение чисел Грасгофа и Прандтля. \n",
    "\n",
    "Данный критерий подобия назван в честь Дж. Стретта (Рэлея).''',\n",
    "    'тяжёлая вода': 'Тяжёлая вода — обычно этот термин применяется для обозначения тяжеловодородной воды, известной также как оксид дейтерия. Тяжеловодородная вода имеет ту же химическую формулу, что и обычная вода, но вместо двух атомов обычного лёгкого изотопа водорода (протия) содержит два атома тяжёлого изотопа водорода — дейтерия, а её кислород по изотопному составу соответствует кислороду воздуха. Формула тяжеловодородной воды обычно записывается как D2O или 2H2O. Внешне тяжёлая вода выглядит как обычная — бесцветная жидкость без запаха, но обладающая сладковатым вкусом. Не радиоактивна.',\n",
    "}\n",
    "\n",
    "len(term_to_target)"
   ]
  },
  {
   "cell_type": "markdown",
   "id": "09d3b01c-66fb-4b14-8ac7-a7b2a9283725",
   "metadata": {},
   "source": [
    "### 3. Prompt Engineering"
   ]
  },
  {
   "cell_type": "markdown",
   "id": "23d50249-4d73-499c-ab0b-9865f940a987",
   "metadata": {},
   "source": [
    "Настроим промпт для генеративных моделей. Для оценки влияния промпта и RAG-контекста на итоговое качество рассмотрим 4 варианта:\n",
    "1. basic prompt;\n",
    "2. basic prompt + RAG;\n",
    "3. detailed prompt;\n",
    "4. detailed prompt + RAG."
   ]
  },
  {
   "cell_type": "markdown",
   "id": "76e137ff-7bdb-487c-8260-5cbe1aeae0d7",
   "metadata": {},
   "source": [
    "Каждый промпт состоит из 3 частей: системная, контекст, вопрос."
   ]
  },
  {
   "cell_type": "code",
   "execution_count": 51,
   "id": "e6d03630-7bc0-4ba5-bc91-975a0fc42a45",
   "metadata": {},
   "outputs": [],
   "source": [
    "system_part_basic = 'Твоя задача - ответить на запрос пользователя.'\n",
    "system_part_detailed = \"\"\"Ты - большой эксперт в области физики и химии. Твоя задача - написать основную информацию о запрашиваемом термине.\n",
    "\n",
    "Структурируй ответ по разделам: Определение, Структура, Использование, Отличительные особенности, Дополнительные сведения. Придерживайся указанного порядка разделов. Разделы не являются обязательными. Если считаешь, что на какой-то раздел недостаточно информации, не пиши его.\n",
    "\n",
    "Главный критерий качества твоего ответа - фактологическая точность. Пропускай то, в чем не уверен, не лги пользователю. Старайся писать на русском языке.\"\"\"\n",
    "\n",
    "context_part_basic = 'Релевантная информация:'\n",
    "context_part_detailed = \"\"\"При ответе помимо собственных знаний используй предоставленную релевантную информацию. Если считаешь, что какая-то часть релевантной информации не подходит, не используй ее.\n",
    "\n",
    "Релевантная информация:\"\"\"\n",
    "\n",
    "question_part = 'Расскажи о следующем термине:'"
   ]
  },
  {
   "cell_type": "code",
   "execution_count": 52,
   "id": "0cf5ab25-8e1e-4f31-b1c4-bf78c9a8ad3b",
   "metadata": {},
   "outputs": [],
   "source": [
    "def create_user_prompt(term, context=None, use_rag=False, use_detailed_prompt=False):\n",
    "    \"\"\"Creates user prompt to feed the LLMs.\"\"\"\n",
    "    question = question_part + ' ' + term + '.'\n",
    "    \n",
    "    if not use_rag:\n",
    "        if not use_detailed_prompt:\n",
    "            prompt = '\\n\\n'.join([system_part_basic, question])\n",
    "        else:\n",
    "            prompt = '\\n\\n'.join([system_part_detailed, question])\n",
    "    else:\n",
    "        if not use_detailed_prompt:\n",
    "            rag_context = context_part_basic + '\\n' + context\n",
    "            prompt = '\\n\\n'.join([system_part_basic, rag_context, question])\n",
    "        else:\n",
    "            rag_context = context_part_detailed + '\\n' + context\n",
    "            prompt = '\\n\\n'.join([system_part_detailed, rag_context, question])\n",
    "\n",
    "    return prompt"
   ]
  },
  {
   "cell_type": "code",
   "execution_count": 53,
   "id": "de1eb2a1-e643-4fa4-87a0-5fc51ff9e303",
   "metadata": {},
   "outputs": [],
   "source": [
    "example_term = 'акустическая эмиссия'\n",
    "example_context = term_to_context[example_term]"
   ]
  },
  {
   "cell_type": "markdown",
   "id": "2759eac6-7d1f-48ba-a35b-0b7d72d43307",
   "metadata": {},
   "source": [
    "#### 3.1 Basic Prompt"
   ]
  },
  {
   "cell_type": "code",
   "execution_count": 54,
   "id": "5c8a2b48-004d-4fe7-a1a4-e17f0e210dec",
   "metadata": {},
   "outputs": [
    {
     "name": "stdout",
     "output_type": "stream",
     "text": [
      "Твоя задача - ответить на запрос пользователя.\n",
      "\n",
      "Расскажи о следующем термине: акустическая эмиссия.\n"
     ]
    }
   ],
   "source": [
    "print(create_user_prompt(example_term, context=None, use_rag=False, use_detailed_prompt=False))"
   ]
  },
  {
   "cell_type": "markdown",
   "id": "28296823-4c4b-4de6-9d98-4e2db50ecef7",
   "metadata": {},
   "source": [
    "#### 3.2 Basic Prompt + RAG"
   ]
  },
  {
   "cell_type": "code",
   "execution_count": 55,
   "id": "d9ba252b-7e18-46ba-9f0e-ed9fc80c856a",
   "metadata": {},
   "outputs": [
    {
     "name": "stdout",
     "output_type": "stream",
     "text": [
      "Твоя задача - ответить на запрос пользователя.\n",
      "\n",
      "Релевантная информация:\n",
      "1. Это оборудование позволяет получать большое количество данных в ходе мониторинга и затем проводить полный анализ сигналов акустической эмиссии, чтобы определить изменение показателя b для всего периода исследований.\n",
      "2. Акустическая эмиссия (АЭ) - явление, сопутствующее многим физическим процессам в твердом теле.\n",
      "3. Каждый раз при возникновении акустической эмиссии это событие может привести либо к созданию новой элементарной трещины, либо к распространению существующей трещины на некоторую фиксированную величину (квант разрушения).\n",
      "4. Поэтому можно считать, что спектральный состав сигнала акустической эмиссии является структурно чувствительной характеристикой.\n",
      "5. Применение этого метода ограничивается возможностями выделения сигналов акустической эмиссии из помех, то есть данный метод чувствителен только на заключительных этапах жизни образца, когда размеры дефектов уже достаточно велики и приближаются к критическим значениям.\n",
      "6. Акустическая эмиссия обычно проявляется при пластической деформации твердых материалов, но в последнее время появились публикации об использовании этого метода и при изучении физико-химических процессов, проходящих в жидкости.\n",
      "7. Пассивный метод контроля состояния объекта состоит в использовании сигнала акустической эмиссии, излучаемого при деформации объекта контроля, или сигнала естественного акустического фона окружающей среды, отраженного объектом.\n",
      "8. Полагаем, что такое деление условно и непрерывная и импульсная акустическая эмиссия представляют поток сигналов, различающиеся амплитудой и частотой появления.\n",
      "9. В технике широко используется спектральный анализ акустической эмиссии шумов, возникающих при эксплуатации агрегатов и устройств, и эмиссии, возникающей при нагруже-нии материала.\n",
      "10. Метод акустической эмиссии (АЭ) для исследования свойств материалов получил широкое распространение во второй половине прошлого столетия.\n",
      "11. Таким образом, трещина выступает в качестве рода, в то время как наименьшее событие акустической эмиссии играет роль вида.\n",
      "12. Такой подход позволяет эффективно сопоставлять эти параметры, особенно при сравнении структуры алюминия, деформации и акустической эмиссии.\n",
      "13. Разработана методика определения активационных параметров - энергии активации и активационного объема, основанная на анализе акустической эмиссии, зависимой от температуры или механического напряжения.\n",
      "\n",
      "Расскажи о следующем термине: акустическая эмиссия.\n"
     ]
    }
   ],
   "source": [
    "print(create_user_prompt(example_term, context=example_context, use_rag=True, use_detailed_prompt=False))"
   ]
  },
  {
   "cell_type": "markdown",
   "id": "8bd46487-4436-4578-9418-9e6157c7fd9e",
   "metadata": {},
   "source": [
    "#### 3.3 Detailed Prompt"
   ]
  },
  {
   "cell_type": "code",
   "execution_count": 56,
   "id": "8c734607-ba34-402e-95d0-aee1302e439f",
   "metadata": {},
   "outputs": [
    {
     "name": "stdout",
     "output_type": "stream",
     "text": [
      "Ты - большой эксперт в области физики и химии. Твоя задача - написать основную информацию о запрашиваемом термине.\n",
      "\n",
      "Структурируй ответ по разделам: Определение, Структура, Использование, Отличительные особенности, Дополнительные сведения. Придерживайся указанного порядка разделов. Разделы не являются обязательными. Если считаешь, что на какой-то раздел недостаточно информации, не пиши его.\n",
      "\n",
      "Главный критерий качества твоего ответа - фактологическая точность. Пропускай то, в чем не уверен, не лги пользователю. Старайся писать на русском языке.\n",
      "\n",
      "Расскажи о следующем термине: акустическая эмиссия.\n"
     ]
    }
   ],
   "source": [
    "print(create_user_prompt(example_term, context=None, use_rag=False, use_detailed_prompt=True))"
   ]
  },
  {
   "cell_type": "markdown",
   "id": "81f06556-c023-48a5-ae5c-8aa9e41f3f1a",
   "metadata": {},
   "source": [
    "#### 3.4 Detailed Prompt + RAG"
   ]
  },
  {
   "cell_type": "code",
   "execution_count": 57,
   "id": "32ce5eba-1f68-4eb3-8cc2-002d330b9813",
   "metadata": {},
   "outputs": [
    {
     "name": "stdout",
     "output_type": "stream",
     "text": [
      "Ты - большой эксперт в области физики и химии. Твоя задача - написать основную информацию о запрашиваемом термине.\n",
      "\n",
      "Структурируй ответ по разделам: Определение, Структура, Использование, Отличительные особенности, Дополнительные сведения. Придерживайся указанного порядка разделов. Разделы не являются обязательными. Если считаешь, что на какой-то раздел недостаточно информации, не пиши его.\n",
      "\n",
      "Главный критерий качества твоего ответа - фактологическая точность. Пропускай то, в чем не уверен, не лги пользователю. Старайся писать на русском языке.\n",
      "\n",
      "При ответе помимо собственных знаний используй предоставленную релевантную информацию. Если считаешь, что какая-то часть релевантной информации не подходит, не используй ее.\n",
      "\n",
      "Релевантная информация:\n",
      "1. Это оборудование позволяет получать большое количество данных в ходе мониторинга и затем проводить полный анализ сигналов акустической эмиссии, чтобы определить изменение показателя b для всего периода исследований.\n",
      "2. Акустическая эмиссия (АЭ) - явление, сопутствующее многим физическим процессам в твердом теле.\n",
      "3. Каждый раз при возникновении акустической эмиссии это событие может привести либо к созданию новой элементарной трещины, либо к распространению существующей трещины на некоторую фиксированную величину (квант разрушения).\n",
      "4. Поэтому можно считать, что спектральный состав сигнала акустической эмиссии является структурно чувствительной характеристикой.\n",
      "5. Применение этого метода ограничивается возможностями выделения сигналов акустической эмиссии из помех, то есть данный метод чувствителен только на заключительных этапах жизни образца, когда размеры дефектов уже достаточно велики и приближаются к критическим значениям.\n",
      "6. Акустическая эмиссия обычно проявляется при пластической деформации твердых материалов, но в последнее время появились публикации об использовании этого метода и при изучении физико-химических процессов, проходящих в жидкости.\n",
      "7. Пассивный метод контроля состояния объекта состоит в использовании сигнала акустической эмиссии, излучаемого при деформации объекта контроля, или сигнала естественного акустического фона окружающей среды, отраженного объектом.\n",
      "8. Полагаем, что такое деление условно и непрерывная и импульсная акустическая эмиссия представляют поток сигналов, различающиеся амплитудой и частотой появления.\n",
      "9. В технике широко используется спектральный анализ акустической эмиссии шумов, возникающих при эксплуатации агрегатов и устройств, и эмиссии, возникающей при нагруже-нии материала.\n",
      "10. Метод акустической эмиссии (АЭ) для исследования свойств материалов получил широкое распространение во второй половине прошлого столетия.\n",
      "11. Таким образом, трещина выступает в качестве рода, в то время как наименьшее событие акустической эмиссии играет роль вида.\n",
      "12. Такой подход позволяет эффективно сопоставлять эти параметры, особенно при сравнении структуры алюминия, деформации и акустической эмиссии.\n",
      "13. Разработана методика определения активационных параметров - энергии активации и активационного объема, основанная на анализе акустической эмиссии, зависимой от температуры или механического напряжения.\n",
      "\n",
      "Расскажи о следующем термине: акустическая эмиссия.\n"
     ]
    }
   ],
   "source": [
    "print(create_user_prompt(example_term, context=example_context, use_rag=True, use_detailed_prompt=True))"
   ]
  },
  {
   "cell_type": "markdown",
   "id": "e293d28b-4f45-4412-b3e7-0d6de3ff29a9",
   "metadata": {},
   "source": [
    "### 4. Output Quality Evaluation"
   ]
  },
  {
   "cell_type": "markdown",
   "id": "67b73555-ebed-4d74-bb46-491feecd8da7",
   "metadata": {},
   "source": [
    "#### 4.1 Best Prompting Strategy"
   ]
  },
  {
   "cell_type": "markdown",
   "id": "eabf8207-9625-44f8-9ed5-df38ffd4dcac",
   "metadata": {},
   "source": [
    "Определим лучший подход к созданию промпта. В качестве модели будем использовать Meta-Llama-3-70B-Instruct со следующими параметрами генерации:\n",
    "- sampling_temperature = 0.2;\n",
    "- beam search beam width = 7;\n",
    "- token repetition penalty = 1.05."
   ]
  },
  {
   "cell_type": "code",
   "execution_count": 58,
   "id": "d46ff54d-2aee-4fb1-8eec-1d321bdc7b23",
   "metadata": {},
   "outputs": [],
   "source": [
    "prompt_testing_dir = '../data/llm_generation/prompt_testing'\n",
    "\n",
    "# basic\n",
    "current_dir = prompt_testing_dir + '/basic/'\n",
    "with open(current_dir + 'prompts.txt', 'w', encoding='utf-8') as f:\n",
    "    for term in wiki_terms:\n",
    "        prompt = create_user_prompt(term, context=None, use_rag=False, use_detailed_prompt=False)\n",
    "        f.write(prompt)\n",
    "\n",
    "        f.write('\\n\\n')\n",
    "        f.write('=' * 120)\n",
    "        f.write('\\n\\n')\n",
    "\n",
    "# basic + RAG\n",
    "current_dir = prompt_testing_dir + '/basic_rag/'\n",
    "with open(current_dir + 'prompts.txt', 'w', encoding='utf-8') as f:\n",
    "    for term in wiki_terms:\n",
    "        prompt = create_user_prompt(term, context=term_to_context[term], use_rag=True, use_detailed_prompt=False)\n",
    "        f.write(prompt)\n",
    "\n",
    "        f.write('\\n\\n')\n",
    "        f.write('=' * 120)\n",
    "        f.write('\\n\\n')\n",
    "\n",
    "# detailed\n",
    "current_dir = prompt_testing_dir + '/detailed/'\n",
    "with open(current_dir + 'prompts.txt', 'w', encoding='utf-8') as f:\n",
    "    for term in wiki_terms:\n",
    "        prompt = create_user_prompt(term, context=None, use_rag=False, use_detailed_prompt=True)\n",
    "        f.write(prompt)\n",
    "\n",
    "        f.write('\\n\\n')\n",
    "        f.write('=' * 120)\n",
    "        f.write('\\n\\n')\n",
    "\n",
    "# detailed + RAG\n",
    "current_dir = prompt_testing_dir + '/detailed_rag/'\n",
    "with open(current_dir + 'prompts.txt', 'w', encoding='utf-8') as f:\n",
    "    for term in wiki_terms:\n",
    "        prompt = create_user_prompt(term, context=term_to_context[term], use_rag=True, use_detailed_prompt=True)\n",
    "        f.write(prompt)\n",
    "\n",
    "        f.write('\\n\\n')\n",
    "        f.write('=' * 120)\n",
    "        f.write('\\n\\n')"
   ]
  },
  {
   "cell_type": "markdown",
   "id": "16d9b81e-1051-4d38-808d-4c1935e25bb2",
   "metadata": {},
   "source": [
    "Ответы модели вручную запишем в соответсвтующие файлы 'responses.txt'.\n",
    "\n",
    "Воспользуемся набором метрик ROUGE для сравнения ответа с вики-эталоном:"
   ]
  },
  {
   "cell_type": "code",
   "execution_count": 61,
   "id": "ecec09ac-4083-4f70-95fa-b79f8de8ad16",
   "metadata": {},
   "outputs": [],
   "source": [
    "tokenizer = WordPunctTokenizer()\n",
    "scorer = RougeScorer(['rouge1', 'rouge2', 'rougeL', 'rougeLsum'], split_summaries=True, tokenizer=tokenizer)"
   ]
  },
  {
   "cell_type": "code",
   "execution_count": 79,
   "id": "b1c6dd4f-bff8-48d7-9c62-09bf66603146",
   "metadata": {},
   "outputs": [],
   "source": [
    "# basic\n",
    "responses = []\n",
    "current_dir = prompt_testing_dir + '/basic/'\n",
    "with open(current_dir + 'responses.txt', 'r', encoding='utf-8') as f:\n",
    "    response = []\n",
    "    \n",
    "    for line in f:\n",
    "        if line.startswith('==='):\n",
    "            responses.append(''.join(response).strip())\n",
    "            response=[]\n",
    "        else:\n",
    "            response.append(line)\n",
    "    \n",
    "term_to_response = {}\n",
    "for idx, term in enumerate(wiki_terms):\n",
    "    term_to_response[term] = responses[idx]"
   ]
  },
  {
   "cell_type": "markdown",
   "id": "474d9f47-02ab-47df-99ae-cb12f592f1fd",
   "metadata": {},
   "source": [
    "Выведем усредненное значение F-меры по ROUGE-1, ROUGE-2, ROUGE-L, ROUGE-Lsum:"
   ]
  },
  {
   "cell_type": "code",
   "execution_count": 88,
   "id": "91917ecb-3bfc-48cd-be3f-428a66ea338d",
   "metadata": {},
   "outputs": [
    {
     "name": "stdout",
     "output_type": "stream",
     "text": [
      "rouge1: 0.1852519182961072\n",
      "rouge2: 0.04976516829680764\n",
      "rougeL: 0.12274167496534646\n",
      "rougeLsum: 0.17797888072845663\n"
     ]
    }
   ],
   "source": [
    "rouge1_avg, rouge2_avg, rougeL_avg, rougeLsum_avg = 0, 0, 0, 0\n",
    "\n",
    "for term in wiki_terms:\n",
    "    target = term_to_target[term]\n",
    "    prediction = term_to_response[term]\n",
    "\n",
    "    scores = scorer.score(target, prediction)\n",
    "\n",
    "    rouge1_avg += scores['rouge1'].fmeasure\n",
    "    rouge2_avg += scores['rouge2'].fmeasure\n",
    "    rougeL_avg += scores['rougeL'].fmeasure\n",
    "    rougeLsum_avg += scores['rougeLsum'].fmeasure\n",
    "\n",
    "rouge1_avg /= len(wiki_terms)\n",
    "rouge2_avg /= len(wiki_terms)\n",
    "rougeL_avg /= len(wiki_terms)\n",
    "rougeLsum_avg /= len(wiki_terms)\n",
    "\n",
    "print('rouge1:', rouge1_avg)\n",
    "print('rouge2:', rouge2_avg)\n",
    "print('rougeL:', rougeL_avg)\n",
    "print('rougeLsum:', rougeLsum_avg)"
   ]
  },
  {
   "cell_type": "code",
   "execution_count": 89,
   "id": "300149c9-bb13-459c-8a66-f7420f38ae8c",
   "metadata": {},
   "outputs": [],
   "source": [
    "# basic + RAG\n",
    "responses = []\n",
    "current_dir = prompt_testing_dir + '/basic_rag/'\n",
    "with open(current_dir + 'responses.txt', 'r', encoding='utf-8') as f:\n",
    "    response = []\n",
    "    \n",
    "    for line in f:\n",
    "        if line.startswith('==='):\n",
    "            responses.append(''.join(response).strip())\n",
    "            response=[]\n",
    "        else:\n",
    "            response.append(line)\n",
    "    \n",
    "term_to_response = {}\n",
    "for idx, term in enumerate(wiki_terms):\n",
    "    term_to_response[term] = responses[idx]"
   ]
  },
  {
   "cell_type": "markdown",
   "id": "930caec2-9db3-42c0-840a-642b38d55b72",
   "metadata": {},
   "source": [
    "Выведем усредненное значение F-меры по ROUGE-1, ROUGE-2, ROUGE-L, ROUGE-Lsum:"
   ]
  },
  {
   "cell_type": "code",
   "execution_count": 90,
   "id": "031930db-da76-49c7-86eb-f516074ce32e",
   "metadata": {},
   "outputs": [
    {
     "name": "stdout",
     "output_type": "stream",
     "text": [
      "rouge1: 0.21136994657746538\n",
      "rouge2: 0.04556782125544582\n",
      "rougeL: 0.14654844657574545\n",
      "rougeLsum: 0.1938355279152893\n"
     ]
    }
   ],
   "source": [
    "rouge1_avg, rouge2_avg, rougeL_avg, rougeLsum_avg = 0, 0, 0, 0\n",
    "\n",
    "for term in wiki_terms:\n",
    "    target = term_to_target[term]\n",
    "    prediction = term_to_response[term]\n",
    "\n",
    "    scores = scorer.score(target, prediction)\n",
    "\n",
    "    rouge1_avg += scores['rouge1'].fmeasure\n",
    "    rouge2_avg += scores['rouge2'].fmeasure\n",
    "    rougeL_avg += scores['rougeL'].fmeasure\n",
    "    rougeLsum_avg += scores['rougeLsum'].fmeasure\n",
    "\n",
    "rouge1_avg /= len(wiki_terms)\n",
    "rouge2_avg /= len(wiki_terms)\n",
    "rougeL_avg /= len(wiki_terms)\n",
    "rougeLsum_avg /= len(wiki_terms)\n",
    "\n",
    "print('rouge1:', rouge1_avg)\n",
    "print('rouge2:', rouge2_avg)\n",
    "print('rougeL:', rougeL_avg)\n",
    "print('rougeLsum:', rougeLsum_avg)"
   ]
  },
  {
   "cell_type": "code",
   "execution_count": 91,
   "id": "ab8dbcf2-ca14-4db6-babc-205ad3c05309",
   "metadata": {},
   "outputs": [],
   "source": [
    "# detailed\n",
    "responses = []\n",
    "current_dir = prompt_testing_dir + '/detailed/'\n",
    "with open(current_dir + 'responses.txt', 'r', encoding='utf-8') as f:\n",
    "    response = []\n",
    "    \n",
    "    for line in f:\n",
    "        if line.startswith('==='):\n",
    "            responses.append(''.join(response).strip())\n",
    "            response=[]\n",
    "        else:\n",
    "            response.append(line)\n",
    "    \n",
    "term_to_response = {}\n",
    "for idx, term in enumerate(wiki_terms):\n",
    "    term_to_response[term] = responses[idx]"
   ]
  },
  {
   "cell_type": "markdown",
   "id": "e4115e4e-aa1a-41c3-b91d-ccf9dfc64c5c",
   "metadata": {},
   "source": [
    "Выведем усредненное значение F-меры по ROUGE-1, ROUGE-2, ROUGE-L, ROUGE-Lsum:"
   ]
  },
  {
   "cell_type": "code",
   "execution_count": 92,
   "id": "ca9e70ad-1005-4851-8393-d2244fc6d4fa",
   "metadata": {},
   "outputs": [
    {
     "name": "stdout",
     "output_type": "stream",
     "text": [
      "rouge1: 0.18609380081930374\n",
      "rouge2: 0.04823157219052166\n",
      "rougeL: 0.12620430073481753\n",
      "rougeLsum: 0.1735089739936986\n"
     ]
    }
   ],
   "source": [
    "rouge1_avg, rouge2_avg, rougeL_avg, rougeLsum_avg = 0, 0, 0, 0\n",
    "\n",
    "for term in wiki_terms:\n",
    "    target = term_to_target[term]\n",
    "    prediction = term_to_response[term]\n",
    "\n",
    "    scores = scorer.score(target, prediction)\n",
    "\n",
    "    rouge1_avg += scores['rouge1'].fmeasure\n",
    "    rouge2_avg += scores['rouge2'].fmeasure\n",
    "    rougeL_avg += scores['rougeL'].fmeasure\n",
    "    rougeLsum_avg += scores['rougeLsum'].fmeasure\n",
    "\n",
    "rouge1_avg /= len(wiki_terms)\n",
    "rouge2_avg /= len(wiki_terms)\n",
    "rougeL_avg /= len(wiki_terms)\n",
    "rougeLsum_avg /= len(wiki_terms)\n",
    "\n",
    "print('rouge1:', rouge1_avg)\n",
    "print('rouge2:', rouge2_avg)\n",
    "print('rougeL:', rougeL_avg)\n",
    "print('rougeLsum:', rougeLsum_avg)"
   ]
  },
  {
   "cell_type": "code",
   "execution_count": 93,
   "id": "978d1fba-b3c4-4417-ad69-14e18dc39c8b",
   "metadata": {},
   "outputs": [],
   "source": [
    "# detailed + RAG\n",
    "responses = []\n",
    "current_dir = prompt_testing_dir + '/detailed_rag/'\n",
    "with open(current_dir + 'responses.txt', 'r', encoding='utf-8') as f:\n",
    "    response = []\n",
    "    \n",
    "    for line in f:\n",
    "        if line.startswith('==='):\n",
    "            responses.append(''.join(response).strip())\n",
    "            response=[]\n",
    "        else:\n",
    "            response.append(line)\n",
    "    \n",
    "term_to_response = {}\n",
    "for idx, term in enumerate(wiki_terms):\n",
    "    term_to_response[term] = responses[idx]"
   ]
  },
  {
   "cell_type": "markdown",
   "id": "f47d43e0-d3b3-4db4-aeb1-8141168ec719",
   "metadata": {},
   "source": [
    "Выведем усредненное значение F-меры по ROUGE-1, ROUGE-2, ROUGE-L, ROUGE-Lsum:"
   ]
  },
  {
   "cell_type": "code",
   "execution_count": 94,
   "id": "db7736dd-9a7f-42f9-a78d-2530660ce394",
   "metadata": {},
   "outputs": [
    {
     "name": "stdout",
     "output_type": "stream",
     "text": [
      "rouge1: 0.1893957806389933\n",
      "rouge2: 0.05011676676097378\n",
      "rougeL: 0.13104466162639045\n",
      "rougeLsum: 0.17425975829826398\n"
     ]
    }
   ],
   "source": [
    "rouge1_avg, rouge2_avg, rougeL_avg, rougeLsum_avg = 0, 0, 0, 0\n",
    "\n",
    "for term in wiki_terms:\n",
    "    target = term_to_target[term]\n",
    "    prediction = term_to_response[term]\n",
    "\n",
    "    scores = scorer.score(target, prediction)\n",
    "\n",
    "    rouge1_avg += scores['rouge1'].fmeasure\n",
    "    rouge2_avg += scores['rouge2'].fmeasure\n",
    "    rougeL_avg += scores['rougeL'].fmeasure\n",
    "    rougeLsum_avg += scores['rougeLsum'].fmeasure\n",
    "\n",
    "rouge1_avg /= len(wiki_terms)\n",
    "rouge2_avg /= len(wiki_terms)\n",
    "rougeL_avg /= len(wiki_terms)\n",
    "rougeLsum_avg /= len(wiki_terms)\n",
    "\n",
    "print('rouge1:', rouge1_avg)\n",
    "print('rouge2:', rouge2_avg)\n",
    "print('rougeL:', rougeL_avg)\n",
    "print('rougeLsum:', rougeLsum_avg)"
   ]
  },
  {
   "cell_type": "markdown",
   "id": "7f45a1af-48a5-4407-8227-9e6698ae9f8d",
   "metadata": {},
   "source": [
    "Запишем показатели ROUGE в таблицу:"
   ]
  },
  {
   "attachments": {
    "663dae6f-8a81-4ac8-b2da-2fc025c8a770.png": {
     "image/png": "[encoded data removed]"
    }
   },
   "cell_type": "markdown",
   "id": "e913e3aa-fc1d-4eab-9f32-4479e579e7db",
   "metadata": {},
   "source": [
    "![image.png](attachment:663dae6f-8a81-4ac8-b2da-2fc025c8a770.png)"
   ]
  },
  {
   "cell_type": "markdown",
   "id": "95e97b83-b616-44aa-a129-c78f86b3dccb",
   "metadata": {},
   "source": [
    "По оценкам ROUGE все промпты близки по качеству. RAG дает маленький прирост. Могу предположить, что простой промпт немного опережает детализированный из-за дефолтных настроек LLM. Велика вероятность, что без детальных инструкций модель отвечает по некоторому шаблону, который, возможно, похож на аннотации статей с Википедии (а они и есть эталонные тексты).\n",
    "\n",
    "Таким образом, автоматические метрики немного говорят о качестве. Оценим тогда визульное качество ответов на примере термина \"квантовая точка\"."
   ]
  },
  {
   "cell_type": "markdown",
   "id": "9c2ea17c-0fd0-4393-bbc9-5bb9285bba82",
   "metadata": {},
   "source": [
    "**<u>basic</u>**"
   ]
  },
  {
   "cell_type": "markdown",
   "id": "7d57b16f-6465-45d6-9608-d8fb6119e028",
   "metadata": {},
   "source": [
    "Квантовая точка (Quantum Dot, QD) - это ультрамаленькая частица, размером от 2 до 10 нанометров, которая состоит из группы атомов, обычно из полупроводниковых материалов, таких как кадмий селенид (CdSe) или свинец сульфид (PbS).\n",
    "\n",
    "Квантовые точки имеют уникальные оптические и электронные свойства, которые отличаются от свойств больших кристаллов тех же материалов. Это происходит потому, что в квантовой точке электроны и дырки (положительно заряженные квазичастицы) ограничены в трех измерениях, что приводит к квантованию энергетических уровней.\n",
    "\n",
    "Основные свойства квантовых точек:\n",
    "\n",
    "1. **Квантование энергии**: Энергия электронов и дырок в квантовой точке квантуется, то есть может принимать только определенные дискретные значения.\n",
    "2. **Флуоресценция**: Квантовые точки могут испускать свет при возбуждении электронами или фотонами. Цвет испускаемого света зависит от размера квантовой точки.\n",
    "3. **Высокая эффективность квантового выхода**: Квантовые точки могут иметь высокую эффективность квантового выхода, что означает, что большая часть поглощенной энергии преобразуется в свет.\n",
    "4. **Устойчивость к фотоокислению**: Квантовые точки более устойчивы к фотоокислению, чем традиционные органические флуорофоры.\n",
    "\n",
    "Применения квантовых точек:\n",
    "\n",
    "1. **Биомедицина**: Квантовые точки используются в биомедицинских исследованиях для маркирования клеток и наблюдения за их поведением.\n",
    "2. **Дисплеи**: Квантовые точки используются в дисплеях для создания ярких и насыщенных цветов.\n",
    "3. **Солнечные батареи**: Квантовые точки исследуются для использования в солнечных батареях для увеличения их эффективности.\n",
    "4. **Квантовые компьютеры**: Квантовые точки могут быть использованы в квантовых компьютерах для хранения и обработки квантовой информации.\n",
    "\n",
    "В целом, квантовые точки - это интересный класс материалов с уникальными свойствами, которые открывают новые возможности для различных областей науки и технологии."
   ]
  },
  {
   "cell_type": "markdown",
   "id": "2cf9d30a-8abc-4dc0-9956-4c759fc9bd8a",
   "metadata": {},
   "source": [
    "**<u>basic + RAG</u>**"
   ]
  },
  {
   "cell_type": "markdown",
   "id": "cf404782-5ab1-437e-9fe0-a9aac1a23210",
   "metadata": {},
   "source": [
    "Квантовая точка - это фрагмент проводника или полупроводника, образующий трехмерную структуру с размерами в несколько единиц или десятков нанометров, способную удерживать счетное количество электронов (порядка 100 и менее). Электрон в квантовой точке имеет много дискретных квазистационарных уровней энергии и чувствует себя как частица в трехмерной потенциальной яме.\n",
    "\n",
    "Квантовые точки - это нуль-мерные (0D) структуры, в которых движение носителей заряда ограничено во всех трех направлениях. Они представляют собой пример квантования состояний электронов в нульмерном (0D) пространстве.\n",
    "\n",
    "Квантовая точка может быть описана как искусственный атом, свойствами которого можно управлять. Она состоит из ограниченного числа атомов и может быть внедрена в тело полупроводника, образуя своеобразную ловушку для электрона.\n",
    "\n",
    "Квантовые точки имеют высокую стабильность и могут быть использованы в различных областях, таких как электроника, оптика, биология и медицина. Они могут быть использованы для создания новых типов электронных устройств, таких как одноэлектронные транзисторы, квантовые ячейки памяти и другие.\n",
    "\n",
    "Однако, квантовые точки также имеют свои ограничения и проблемы, такие как токсичность, чувствительность к зарядовому состоянию и ограничения в масштабируемости."
   ]
  },
  {
   "cell_type": "markdown",
   "id": "d982fe3b-cfdc-41f7-8028-b9cb6d3a2b94",
   "metadata": {},
   "source": [
    "**<u>detailed</u>**"
   ]
  },
  {
   "cell_type": "markdown",
   "id": "aac89be9-414b-48a1-bf9b-840fb76ea467",
   "metadata": {},
   "source": [
    "**Квантовая точка**\r\n",
    "\r\n",
    "**Определение**\r\n",
    "Квантовая точка (quantum dot) - это ультрамаленькое полупроводниковое образование, размером от 2 до 10 нанометров, которое демонстрирует квантовые свойства из-за ограничения движения электронов и дырок в трех измерениях.\r\n",
    "\r\n",
    "**Структура**\r\n",
    "Квантовая точка обычно состоит из ядра, сделанного из полупроводникового материала, окруженного оболочкой из другого материала. Ядро может быть сделано из таких материалов, как кадмий селенид (CdSe), кадмий теллурид (CdTe) или свинец сульфид (PbS). Оболочка изолирует ядро от окружающей среды и предотвращает рекомбинацию электронов и дырок.\r\n",
    "\r\n",
    "**Использование**\r\n",
    "Квантовые точки используются в различных областях, включая:\r\n",
    "\r\n",
    "* Оптоэлектронику: квантовые точки могут быть использованы для создания высокоэффективных светоизлучающих диодов (LED) и лазеров.\r\n",
    "* Биомедицину: квантовые точки могут быть использованы для маркирования биомолекул и визуализации процессов в живых клетках.\r\n",
    "* Фотovoltaику: квантовые точки могут быть использованы для создания высокоэффективных солнечных батарей.\r\n",
    "\r\n",
    "**Отличительные особенности**\r\n",
    "Квантовые точки имеют несколько отличительных особенностей, которые делают их полезными для различных приложений:\r\n",
    "\r\n",
    "* Квантовый эффект размера: квантовые точки демонстрируют квантовые свойства из-за ограничения движения электронов и дырок в трех измерениях.\r\n",
    "* Высокая люминесценция: квантовые точки могут излучать свет с высокой эффективностью.\r\n",
    "* Регулируемый спектр: спектр излучения квантовой точки может быть регулирован изменением ее размера и формы.\r\n",
    "\r\n",
    "**Дополнительные сведения**\r\n",
    "Квантовые точки были впервые синтезированы в 1980-х годах, и с тех пор они привлекли внимание ученых и инженеров из-за своих уникальных свойств. Сейчас квантовые точки используются в различных областях, включая оптоэлектронику, биомедицину и фотovoltaику."
   ]
  },
  {
   "cell_type": "markdown",
   "id": "096265c9-e8e4-4235-86aa-c02085586cdd",
   "metadata": {},
   "source": [
    "**<u>detailed + RAG</u>**"
   ]
  },
  {
   "cell_type": "markdown",
   "id": "e28bb1b2-6371-46b8-ab09-b78a96acb413",
   "metadata": {},
   "source": [
    "**Определение**\r\n",
    "\r\n",
    "Квантовая точка - это фрагмент проводника или полупроводника, образующий трехмерную структуру с размерами в несколько единиц или десятков нанометров, способную удерживать счетное количество электронов (порядка 100 и менее). Электрон в квантовой точке имеет много дискретных квазистационарных уровней энергии и чувствует себя как частица в трехмерной потенциальной яме.\r\n",
    "\r\n",
    "**Структура**\r\n",
    "\r\n",
    "Квантовая точка - это небольшие острова двумерной частицы, окруженные искусственным потенциалом. Она ограничена по всем трем пространственным измерениям и содержит электроны проводимости. Квантовые точки - это нуль-мерные (0D) структуры, в которых движение носителей заряда ограничено во всех трех направлениях.\r\n",
    "\r\n",
    "**Использование**\r\n",
    "\r\n",
    "Квантовые точки используются в различных областях, таких как электроника, оптика, биология и медицина. Они могут быть использованы для создания новых типов транзисторов, таких как одноэлектронные транзисторы, а также для разработки новых методов оптической диагностики в биологии и медицине.\r\n",
    "\r\n",
    "**Отличительные особенности**\r\n",
    "\r\n",
    "Квантовые точки имеют несколько отличительных особенностей, таких как:\r\n",
    "\r\n",
    "* Ограничение движения носителей заряда по всем трем координатам\r\n",
    "* Дискретные квазистационарные уровни энергии электронов\r\n",
    "* Способность удерживать счетное количество электронов\r\n",
    "* Высокий квантовый выход, что делает их яркими в биологических объектах\r\n",
    "\r\n",
    "**Дополнительные сведения**\r\n",
    "\r\n",
    "Квантовые точки могут быть внедрены эндоцитозом или с помощью маркированных мембранных белков. Они могут быть использованы для создания новых типов ячеек памяти, таких как одиночная заряженная квантовая точка. Кроме того, квантовые точки имеют высокую стабильность, что делает их привлекательными для использования вразличных приложениях.\r\n",
    "едицину и фотovoltaику."
   ]
  },
  {
   "cell_type": "markdown",
   "id": "cfecffb7-95d8-49b3-a7cf-5f332915a355",
   "metadata": {},
   "source": [
    "*<u>Выводы:</u>* \n",
    "\n",
    "- подробный промпт способствует лучшей структуре ответа, что приветствуется при написании научных текстов. Вполне возможно, что именно заголовки портили ROUGE-оценки. Субъективно, но структура выдачи стала намного лучше при использовании подробных инструкций;\n",
    "- модель активно использует RAG, что делает ответ менее шаблонным. Вообще говоря, RAG не всегда способствует улучшению качества, особенно когда базовая модель сама по себе много знает. Однако это не наш случай - мы работает с достаточно редкими терминами, где RAG очень помогает. Более того, RAG позволит модели адекватно ответить даже в том случае, когда она сама почти ничего не знает.\n",
    "\n",
    "Таким образом, будем использовать вариацию **detailed + RAG**, т.е. подробный промпт вместе с RAG."
   ]
  },
  {
   "cell_type": "markdown",
   "id": "451bb299-f8f9-451b-b9f0-ad5fea231db2",
   "metadata": {},
   "source": [
    "#### 4.2 Best Model"
   ]
  },
  {
   "cell_type": "markdown",
   "id": "8bd1e271-52cc-4684-bcb1-ff1583dcd114",
   "metadata": {},
   "source": [
    "Теперь выберем оптимальную LLM. Рассмотрим 3 варианта:\n",
    "1. Meta-Llama-3-70B-Instruct;\n",
    "2. Claude-3-sonnet-20240229;\n",
    "3. Mixtral-8x22b-instruct-v0.1;"
   ]
  },
  {
   "cell_type": "markdown",
   "id": "1e8b1ee0-ca79-45b9-b719-86205080f232",
   "metadata": {},
   "source": [
    "LLama-3 уже рассмотрели. Оценим 2 оставшиеся модели:"
   ]
  },
  {
   "cell_type": "code",
   "execution_count": 97,
   "id": "38c45b7e-5e1f-454f-a596-ee4348884635",
   "metadata": {},
   "outputs": [],
   "source": [
    "model_testing_dir = '../data/llm_generation/model_testing'"
   ]
  },
  {
   "cell_type": "code",
   "execution_count": 98,
   "id": "f334a236-e4db-4eca-9780-54128d440491",
   "metadata": {},
   "outputs": [],
   "source": [
    "# claude-3\n",
    "responses = []\n",
    "current_dir = model_testing_dir + '/claude-3-sonnet-20240229/'\n",
    "with open(current_dir + 'responses.txt', 'r', encoding='utf-8') as f:\n",
    "    response = []\n",
    "    \n",
    "    for line in f:\n",
    "        if line.startswith('==='):\n",
    "            responses.append(''.join(response).strip())\n",
    "            response=[]\n",
    "        else:\n",
    "            response.append(line)\n",
    "    \n",
    "term_to_response = {}\n",
    "for idx, term in enumerate(wiki_terms):\n",
    "    term_to_response[term] = responses[idx]"
   ]
  },
  {
   "cell_type": "markdown",
   "id": "d6dd176d-2542-4984-ada7-788f9ecbbd82",
   "metadata": {},
   "source": [
    "Выведем усредненное значение F-меры по ROUGE-1, ROUGE-2, ROUGE-L, ROUGE-Lsum:"
   ]
  },
  {
   "cell_type": "code",
   "execution_count": 99,
   "id": "d81545f7-a174-4c88-9f69-b8e6d4226ebe",
   "metadata": {},
   "outputs": [
    {
     "name": "stdout",
     "output_type": "stream",
     "text": [
      "rouge1: 0.19216155660308815\n",
      "rouge2: 0.041525553494071596\n",
      "rougeL: 0.12096761048308728\n",
      "rougeLsum: 0.17559546468444215\n"
     ]
    }
   ],
   "source": [
    "rouge1_avg, rouge2_avg, rougeL_avg, rougeLsum_avg = 0, 0, 0, 0\n",
    "\n",
    "for term in wiki_terms:\n",
    "    target = term_to_target[term]\n",
    "    prediction = term_to_response[term]\n",
    "\n",
    "    scores = scorer.score(target, prediction)\n",
    "\n",
    "    rouge1_avg += scores['rouge1'].fmeasure\n",
    "    rouge2_avg += scores['rouge2'].fmeasure\n",
    "    rougeL_avg += scores['rougeL'].fmeasure\n",
    "    rougeLsum_avg += scores['rougeLsum'].fmeasure\n",
    "\n",
    "rouge1_avg /= len(wiki_terms)\n",
    "rouge2_avg /= len(wiki_terms)\n",
    "rougeL_avg /= len(wiki_terms)\n",
    "rougeLsum_avg /= len(wiki_terms)\n",
    "\n",
    "print('rouge1:', rouge1_avg)\n",
    "print('rouge2:', rouge2_avg)\n",
    "print('rougeL:', rougeL_avg)\n",
    "print('rougeLsum:', rougeLsum_avg)"
   ]
  },
  {
   "cell_type": "code",
   "execution_count": 100,
   "id": "c656ac57-08fe-4dbb-97ca-d2b064f58b77",
   "metadata": {},
   "outputs": [],
   "source": [
    "# mixtral\n",
    "responses = []\n",
    "current_dir = model_testing_dir + '/mixtral-8x22b-instruct-v0.1/'\n",
    "with open(current_dir + 'responses.txt', 'r', encoding='utf-8') as f:\n",
    "    response = []\n",
    "    \n",
    "    for line in f:\n",
    "        if line.startswith('==='):\n",
    "            responses.append(''.join(response).strip())\n",
    "            response=[]\n",
    "        else:\n",
    "            response.append(line)\n",
    "    \n",
    "term_to_response = {}\n",
    "for idx, term in enumerate(wiki_terms):\n",
    "    term_to_response[term] = responses[idx]"
   ]
  },
  {
   "cell_type": "markdown",
   "id": "6c9b337c-0157-45e9-9940-7abeb1b159fb",
   "metadata": {},
   "source": [
    "Выведем усредненное значение F-меры по ROUGE-1, ROUGE-2, ROUGE-L, ROUGE-Lsum:"
   ]
  },
  {
   "cell_type": "code",
   "execution_count": 101,
   "id": "498f875d-bb0f-4a3c-88bf-fb6823061c0d",
   "metadata": {},
   "outputs": [
    {
     "name": "stdout",
     "output_type": "stream",
     "text": [
      "rouge1: 0.18270529348563427\n",
      "rouge2: 0.034341246589233106\n",
      "rougeL: 0.13393260271660107\n",
      "rougeLsum: 0.17261290808249846\n"
     ]
    }
   ],
   "source": [
    "rouge1_avg, rouge2_avg, rougeL_avg, rougeLsum_avg = 0, 0, 0, 0\n",
    "\n",
    "for term in wiki_terms:\n",
    "    target = term_to_target[term]\n",
    "    prediction = term_to_response[term]\n",
    "\n",
    "    scores = scorer.score(target, prediction)\n",
    "\n",
    "    rouge1_avg += scores['rouge1'].fmeasure\n",
    "    rouge2_avg += scores['rouge2'].fmeasure\n",
    "    rougeL_avg += scores['rougeL'].fmeasure\n",
    "    rougeLsum_avg += scores['rougeLsum'].fmeasure\n",
    "\n",
    "rouge1_avg /= len(wiki_terms)\n",
    "rouge2_avg /= len(wiki_terms)\n",
    "rougeL_avg /= len(wiki_terms)\n",
    "rougeLsum_avg /= len(wiki_terms)\n",
    "\n",
    "print('rouge1:', rouge1_avg)\n",
    "print('rouge2:', rouge2_avg)\n",
    "print('rougeL:', rougeL_avg)\n",
    "print('rougeLsum:', rougeLsum_avg)"
   ]
  },
  {
   "cell_type": "markdown",
   "id": "7e9cbfb0-b75c-490b-847f-77507b70a61f",
   "metadata": {},
   "source": [
    "Запишем показатели ROUGE в таблицу:"
   ]
  },
  {
   "attachments": {
    "44e6b91f-de49-4a45-b1ca-252cf22ad9aa.png": {
     "image/png": "[encoded data removed]"
    }
   },
   "cell_type": "markdown",
   "id": "66435ae7-0917-44f1-a07b-aca776484f2e",
   "metadata": {},
   "source": [
    "![image.png](attachment:44e6b91f-de49-4a45-b1ca-252cf22ad9aa.png)"
   ]
  },
  {
   "cell_type": "markdown",
   "id": "f02d3999-63d0-437a-98ad-66edefd2a4ae",
   "metadata": {},
   "source": [
    "Как и в случае оценивания промптов, разница между моделями небольшая. Оценим вручную качество ответов на примере термина \"меченые атомы\":"
   ]
  },
  {
   "cell_type": "markdown",
   "id": "d6cd0c77-ac33-43a7-b68d-7f5a16d6e9eb",
   "metadata": {},
   "source": [
    "**<u>RAG-context:</u>**"
   ]
  },
  {
   "cell_type": "markdown",
   "id": "2f829a62-60e7-45e5-a84f-7ba0e415a691",
   "metadata": {},
   "source": [
    "1. ПРАКТИЧЕСКОЕ ИСПОЛЬЗОВАНИЕ ИОНИЗИРУЮЩИХ ИЗЛУЧЕНИЙ Область применения ионизирующих излучений очень широка: - в промышленности - это гигантские реакторы для атомных электростанций, для опреснения морской и засолённой воды, для получения трансурановых элементов; также их используют в активационном анализе для быстрого определения примесей в сплавах, металла в руде, качества угля; - в сельском хозяйстве - это установки для массового облучения овощей с целью предохранения их от плесени, мяса - от порчи; выведение новых сортов путём генетических мутаций; - в геологии - это нейтронный каротаж для поисков нефти, активационный анализ для поисков и сортировки металлических руд, для определения массовой доли примесей в естественных алмазах; - в медицине - это изучение производственных отравлений методом меченых атомов, диагностика заболевания при помощи активационного анализа, метода меченых атомов и радиографии, лечение опухолей г-лучами и в-частицами, стерилизация фармацевтических препаратов, одежды, медицинских инструментов и оборудования г-излучением.\r\n",
    "2. Концентрация меченых атомов обычно очень мала, чтобы состав образца существенно не изменялся.\r\n",
    "3. Данный метод позволяет в качестве метки использовать не только изотоп, но и меченый атом с теми же физическими и химическими характеристиками, что и не меченый атом.\r\n",
    "4. Численное моделирование процессов горения (распространения пламени, самовоспламенения и т. д.) также позволяет использовать метод меченых атомов, причем возможности этого метода в данном случае могут оказаться столь же продуктивными.\r\n",
    "5. Такие коэффициенты корреляции выражают взаимосвязь направлений перескока данного меченого атома (эффекты корреляции меченых атомов) или направлений перескока центра массы данного атома с атомами того же или другого сорта (коллективные корреляции).\r\n",
    "6. Меченые атомы (изотопы) могут быть как атомами одного из основных компонентов сплава, так и атомами примеси.\r\n",
    "7. Тогда соотношение Хавена ведет себя примерно так же, как корреляционный множитель меченых атомов в отсутствие взаимодействия, то есть при простом блокировании расстояния между атомами.\r\n",
    "8. Первый из них связан с измерением диффузии меченых атомов (стабильных или радиоактивных изотопов).\r\n"
   ]
  },
  {
   "cell_type": "markdown",
   "id": "d1463464-2ba8-4998-9cf7-f0c433740772",
   "metadata": {},
   "source": [
    "**<u>Meta-Llama-3-70B-Instruct:</u>**"
   ]
  },
  {
   "cell_type": "markdown",
   "id": "9fb7d55e-af07-4598-9a30-e71a865a7d29",
   "metadata": {},
   "source": [
    "**Меченые атомы**\r\n",
    "\r\n",
    "**Определение**\r\n",
    "Меченые атомы - это атомы, помеченные радиоактивными или стабильными изотопами, которые используются для исследования различных процессов и явлений в физике, химии, биологии и других областях науки.\r\n",
    "\r\n",
    "**Структура**\r\n",
    "Меченые атомы могут быть как атомами одного из основных компонентов сплава, так и атомами примеси. Они имеют те же физические и химические характеристики, что и не меченые атомы, но отличаются наличием радиоактивных или стабильных изотопов.\r\n",
    "\r\n",
    "**Использование**\r\n",
    "Меченые атомы используются в различных областях, таких как:\r\n",
    "\r\n",
    "* промышленность: активационный анализ для быстрого определения примесей в сплавах, металла в руде, качества угля;\r\n",
    "* сельское хозяйство: массовое облучение овощей для предохранения от плесени, мяса - от порчи; выведение новых сортов путём генетических мутаций;\r\n",
    "* геология: нейтронный каротаж для поисков нефти, активационный анализ для поисков и сортировки металлических руд, для определения массовой доли примесей в естественных алмазах;\r\n",
    "* медицина: изучение производственных отравлений методом меченых атомов, диагностика заболевания при помощи активационного анализа, метода меченых атомов и радиографии, лечение опухолей г-лучами и в-частицами, стерилизация фармацевтических препаратов, одежды, медицинских инструментов и оборудования г-излучением.\r\n",
    "\r\n",
    "**Отличительные особенности**\r\n",
    "Меченые атомы позволяют в качестве метки использовать не только изотоп, но и меченый атом с теми же физическими и химическими характеристиками, что и не меченый атом. Кроме того, концентрация меченых атомов обычно очень мала, чтобы состав образца существенно не изменялся.\r\n",
    "\r\n",
    "**Дополнительные сведения**\r\n",
    "Меченые атомы также используются в численном моделировании процессов горения, где возможности этого метода могут оказаться столь же продуктивными. Коэффициенты корреляции, полученные с помощью меченых атомов, выражают взаимосвязь направлений перескока данного меченого атома или направлений перескока центра массы данного атома с атомами того ж или другого сорта.\r\n"
   ]
  },
  {
   "cell_type": "markdown",
   "id": "193bfef6-529a-4b37-8725-2583c8eb9372",
   "metadata": {},
   "source": [
    "**<u>Claude-3-sonnet-20240229:</u>**"
   ]
  },
  {
   "cell_type": "markdown",
   "id": "6477bbf0-dbd7-4239-aff0-b2bd2dfa7754",
   "metadata": {},
   "source": [
    "Определение:\r\n",
    "Меченые атомы - это атомы, содержащие радиоактивные или стабильные изотопы, которые используются в качестве меток для отслеживания их поведения в различных физических, химических и биологических процессах.\r\n",
    "\r\n",
    "Структура:\r\n",
    "Меченые атомы представляют собой обычные атомы, в которых один или несколько нуклонов (протонов или нейтронов) заменены на изотопы с другим массовым числом. Они сохраняют химические свойства немеченых атомов, но могут быть обнаружены благодаря своей радиоактивности или другим уникальным свойствам.\r\n",
    "\r\n",
    "Использование:\r\n",
    "Метод меченых атомов широко применяется в различных областях науки и техники:\r\n",
    "- Исследование химических реакций и механизмов переноса\r\n",
    "- Изучение процессов диффузии и самодиффузии в твердых телах\r\n",
    "- Исследование метаболических процессов в биологии и медицине\r\n",
    "- Анализ состава материалов (активационный анализ)\r\n",
    "- Отслеживание потоков и распределения веществ в окружающей среде\r\n",
    "\r\n",
    "Отличительные особенности:\r\n",
    "1. Сохраняют химические свойства немеченых атомов\r\n",
    "2. Могут быть радиоактивными или стабильными\r\n",
    "3. Позволяют отслеживать поведение атомов в процессах\r\n",
    "4. Используются в очень малых концентрациях\r\n",
    "\r\n",
    "Дополнительные сведения:\r\n",
    "Концентрация меченых атомов обычно очень мала, чтобы не изменять существенно состав образца. Радиоактивные меченые атомы могут быть обнаружены с высокой чувствительностью по их излучению. Метод меченых атомов является неразрушающим и позволяет получать уникальную информацию о протекающих процессх на атомном уровне.\r\n"
   ]
  },
  {
   "cell_type": "markdown",
   "id": "45e10565-b047-44be-ab75-d254ba0b16b7",
   "metadata": {},
   "source": [
    "**<u>Mixtral-8x22b-instruct-v0.1:</u>**"
   ]
  },
  {
   "cell_type": "markdown",
   "id": "35d2de2b-b01b-49dd-8d8e-645b337ea6a2",
   "metadata": {},
   "source": [
    "Определение: Меченые атомы - это атомы, которые были специально модифицированы для использования в качестве метки в различных приложениях, таких как медицина, сельское хозяйство и промышленность. Меченые атомы могут быть как атомами одного из основных компонентов сплава, так и атомами примеси.\r\n",
    "\r\n",
    "Структура: Меченые атомы могут быть модифицированы путем добавления радиоактивного изотопа, который позволяет отслеживать их движение и распределение в образце. Концентрация меченых атомов обычно очень мала, чтобы состав образца существенно не изменялся.\r\n",
    "\r\n",
    "Использование: Меченые атомы используются в различных областях, таких как медицина, сельское хозяйство и промышленность. В медицине они могут использоваться для диагностики заболевания при помощи активационного анализа, метода меченых атомов и радиографии, а также для лечения опухолей и стерилизации фармацевтических препаратов. В сельском хозяйстве они могут использоваться для выведения новых сортов путем генетических мутаций. В промышленности они могут использоваться для опреснения морской и засолённой воды, для получения трансурановых элементов и для активационного анализа для быстрого определения примесей в сплавах и металла в руде.\r\n",
    "\r\n",
    "Отличительные особенности: Меченые атомы отличаются от обычных атомов тем, что они были специально модифицированы для использования в качестве метки. Они могут содержать радиоактивный изотоп, который позволяет отслеживать их движение и распределение в образце. Меченые атомы могут быть как атомами одного из основных компонентов сплава, так и атомами примеси.\r\n",
    "\r\n",
    "Дополнительные сведения: Меченые атомы могут использоваться для изучения процессов горения, в частности, распространения пламени и самовоспламенения. Они также могут использоваться для измерения диффузии меченых атомов и для изучения взаимосвязи направлений перескока данного меченого атома или направлений перескока центра массы данного атома с атомами того же или другого сорта.\r\n"
   ]
  },
  {
   "cell_type": "markdown",
   "id": "637f95e5-7cfc-49d5-a6fd-02e04582d5c7",
   "metadata": {},
   "source": [
    "*<u>Выводы:</u>* \n",
    "\n",
    "- Llama и Mixtral активно используют предоставленный RAG-контекст (но Llama активнее), Claude очень консервативен в этом смысле - он предпочитает использовать собственные знания. Иногда это правда может улучшить качество (когда в контекст попадает явно нерелевантная информация), однако в нашем случае RAG чаще полезен, чем вреден;\n",
    "- Наихудшее форматирование ответа у Mixtral, LLama и Claude в целом равны между собой.\n",
    "- В отличие от Claude, LLama и Mixtral - open-source модели, что тоже немаловажный плюс (как минимум, не нужна подписка, и возможна автоматизация процесса общения).\n",
    "\n",
    "Таким образом, все модели хороши. Но для поставленной задачи я считаю, что лучше всего подойдет **Meta-Llama-3-70B-Instruct**."
   ]
  },
  {
   "cell_type": "markdown",
   "id": "d7e5cae2-304d-4ff8-805d-a02abc6de1ab",
   "metadata": {},
   "source": [
    "### 5. Summary Generation"
   ]
  },
  {
   "cell_type": "markdown",
   "id": "cb48c6e9-40db-4e6d-9478-534a927fcf6b",
   "metadata": {},
   "source": [
    "Для вики-терминов мы уже сгенерировали выжимки. Сделаем то же самое для 10 не-вики-терминов:"
   ]
  },
  {
   "cell_type": "code",
   "execution_count": 102,
   "id": "2d7d552e-260a-46d9-8a7d-047b562245e7",
   "metadata": {},
   "outputs": [],
   "source": [
    "final_dir = '../data/llm_generation/final_summaries/non_wiki_terms/'\n",
    "with open(final_dir + 'prompts.txt', 'w', encoding='utf-8') as f:\n",
    "    for term in non_wiki_terms:\n",
    "        prompt = create_user_prompt(term, context=term_to_context[term], use_rag=True, use_detailed_prompt=True)\n",
    "        f.write(prompt)\n",
    "\n",
    "        f.write('\\n\\n')\n",
    "        f.write('=' * 120)\n",
    "        f.write('\\n\\n')"
   ]
  },
  {
   "cell_type": "markdown",
   "id": "c66843ba-e09b-47d3-a897-19591718718b",
   "metadata": {},
   "source": [
    "### 6. Notes"
   ]
  },
  {
   "cell_type": "markdown",
   "id": "962d537d-57e7-4b0f-b430-22d094959f70",
   "metadata": {},
   "source": [
    "1. Даже коммерческие модели типа Claude можно использовать бесплатно (но с различными ограничениями) на платформе LMSYS Arena (именно там и генерил выдачу для Claude и Mixtral);\n",
    "2. Можно заметить, что модели иногда повторяют при ответе предложения из RAG-контекста. Особенно это заметно для терминов без вики-статьи. Возможно, у модели не хватает собственных знаний, а RAG-контекст либо беден, либо нерелевантен по мнению модели;\n",
    "3. В дополнительные сведения LLM сбрасывают все, что не смогли отнести к другим категориям, иногда ошибочно (особенно часто случается с предложениями, подходящими в раздел Использование);\n",
    "4. Оценить содержание таких специфичных терминов для меня достаточно проблематично, поэтому при выборе модели ориентировался на общую связность повествования и интенсивность использования контекста (чаще он полезен, чем вреден)."
   ]
  },
  {
   "cell_type": "code",
   "execution_count": null,
   "id": "e251af7b-1a02-4be5-a7c5-620ab674a744",
   "metadata": {},
   "outputs": [],
   "source": []
  }
 ],
 "metadata": {
  "kernelspec": {
   "display_name": "science",
   "language": "python",
   "name": "science"
  },
  "language_info": {
   "codemirror_mode": {
    "name": "ipython",
    "version": 3
   },
   "file_extension": ".py",
   "mimetype": "text/x-python",
   "name": "python",
   "nbconvert_exporter": "python",
   "pygments_lexer": "ipython3",
   "version": "3.10.2"
  }
 },
 "nbformat": 4,
 "nbformat_minor": 5
}
